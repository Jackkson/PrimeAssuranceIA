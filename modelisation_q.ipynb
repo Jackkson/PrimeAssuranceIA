{
 "cells": [
  {
   "cell_type": "markdown",
   "metadata": {},
   "source": [
    "# Modelisation"
   ]
  },
  {
   "cell_type": "markdown",
   "metadata": {},
   "source": [
    "## Importation des modules et du dataset"
   ]
  },
  {
   "cell_type": "code",
   "execution_count": 1,
   "metadata": {},
   "outputs": [],
   "source": [
    "import matplotlib.pyplot as plt\n",
    "import numpy as np\n",
    "import pandas as pd\n",
    "import seaborn as sns\n",
    "from sklearn.compose import ColumnTransformer\n",
    "from sklearn.linear_model import ElasticNet, Lasso, LinearRegression, Ridge\n",
    "from sklearn.model_selection import train_test_split, GridSearchCV, cross_val_score\n",
    "from sklearn.pipeline import make_pipeline\n",
    "from sklearn.preprocessing import FunctionTransformer, KBinsDiscretizer, OneHotEncoder, PolynomialFeatures, StandardScaler\n",
    "import statsmodels.api as sm\n",
    "\n",
    "data = pd.read_csv(\"dataset_cleaned.csv\")"
   ]
  },
  {
   "cell_type": "markdown",
   "metadata": {},
   "source": [
    "## Transformation des variables "
   ]
  },
  {
   "cell_type": "code",
   "execution_count": 2,
   "metadata": {},
   "outputs": [],
   "source": [
    "bmi_scale = [\n",
    "    {\"category\": \"Underweight\", \"range\": [float(\"-inf\"), 18.499]},\n",
    "    {\"category\": \"Healthy weight\", \"range\": [18.5, 24.999]},\n",
    "    {\"category\": \"Overweight\", \"range\": [25, 29.999]},\n",
    "    {\"category\": \"Obesity class I\", \"range\": [30, 34.999]},\n",
    "    {\"category\": \"Obesity class II\", \"range\": [35, 39.999]},\n",
    "    {\"category\": \"Obesity class III\", \"range\": [40, float(\"inf\")]},\n",
    "]\n",
    "\n",
    "bmi_count = []\n",
    "for bmi in data[\"bmi\"]:\n",
    "    for group in bmi_scale:\n",
    "        if bmi >= group[\"range\"][0] and bmi <= group[\"range\"][1]:\n",
    "            bmi_count.append(group[\"category\"])\n",
    "            continue\n",
    "\n",
    "data = data.drop(\"bmi\", axis=1)\n",
    "data[\"bmi\"] = bmi_count"
   ]
  },
  {
   "cell_type": "markdown",
   "metadata": {},
   "source": [
    "## Création des train set et test set"
   ]
  },
  {
   "cell_type": "code",
   "execution_count": 3,
   "metadata": {},
   "outputs": [],
   "source": [
    "X = data.drop(\"charges\", axis=1)\n",
    "y = data.charges\n",
    "\n",
    "X_train, X_test, y_train, y_test = train_test_split(X, y, shuffle=True, train_size=0.85, random_state=42, stratify=X['smoker'])"
   ]
  },
  {
   "cell_type": "markdown",
   "metadata": {},
   "source": [
    "## Etapes de preprocessing "
   ]
  },
  {
   "cell_type": "markdown",
   "metadata": {},
   "source": [
    "### Fonction custom pour pipeline"
   ]
  },
  {
   "cell_type": "code",
<<<<<<< HEAD
=======
   "execution_count": 116,
   "metadata": {},
   "outputs": [],
   "source": [
    "# def bmi_categ(x):\n",
    "\n",
    "#     df = pd.DataFrame(x)\n",
    "    \n",
    "#     bmi_count = []\n",
    "#     for bmi in df[\"bmi\"]:\n",
    "#         for group in bmi_scale:\n",
    "#             if bmi >= group[\"range\"][0] and bmi <= group[\"range\"][1]:\n",
    "#                 bmi_count.append(group[\"category\"])\n",
    "#                 continue\n",
    "\n",
    "#     df = df.drop(\"bmi\", axis=1)\n",
    "#     df[\"bmi\"] = bmi_count\n",
    "    \n",
    "#     return df[\"bmi\"]"
   ]
  },
  {
   "cell_type": "markdown",
   "metadata": {},
   "source": [
    "### Preprocessing"
   ]
  },
  {
   "cell_type": "code",
>>>>>>> 176b58272513af6ffebc93c1dfa61d60baa1104f
   "execution_count": 4,
   "metadata": {},
   "outputs": [],
   "source": [
    "num_col = list(X.select_dtypes(include=[float,int]).columns)\n",
    "cat_col = list(X.select_dtypes(include=[object]).columns)\n",
    "\n",
    "# num_col = [\"age\", \"children\"]\n",
    "# cat_col = [\"sex\", \"bmi\", \"smoker\", \"region\"]\n",
    "\n",
    "# num_pipe = make_pipeline(StandardScaler())\n",
    "\n",
    "# custom_preprocessing = ColumnTransformer([\n",
    "#     (\"bmi_categ\", FunctionTransformer(func=bmi_categ, validate=False), \"bmi\")\n",
    "# ], remainder=\"passthrough\")\n",
    "\n",
    "# tenter avec feature engine -> pip install\n",
    "\n",
    "preprocessing = ColumnTransformer([\n",
    "    (\"one_hot\", OneHotEncoder(sparse_output=False), cat_col),\n",
    "    (\"scaling\", StandardScaler(), num_col),\n",
    "])"
   ]
  },
  {
   "cell_type": "markdown",
   "metadata": {},
   "source": [
    "## Regression linéaire"
   ]
  },
  {
   "cell_type": "code",
<<<<<<< HEAD
   "execution_count": 5,
=======
   "execution_count": 17,
>>>>>>> 176b58272513af6ffebc93c1dfa61d60baa1104f
   "metadata": {},
   "outputs": [
    {
     "data": {
      "text/html": [
<<<<<<< HEAD
       "<style>#sk-container-id-1 {color: black;}#sk-container-id-1 pre{padding: 0;}#sk-container-id-1 div.sk-toggleable {background-color: white;}#sk-container-id-1 label.sk-toggleable__label {cursor: pointer;display: block;width: 100%;margin-bottom: 0;padding: 0.3em;box-sizing: border-box;text-align: center;}#sk-container-id-1 label.sk-toggleable__label-arrow:before {content: \"▸\";float: left;margin-right: 0.25em;color: #696969;}#sk-container-id-1 label.sk-toggleable__label-arrow:hover:before {color: black;}#sk-container-id-1 div.sk-estimator:hover label.sk-toggleable__label-arrow:before {color: black;}#sk-container-id-1 div.sk-toggleable__content {max-height: 0;max-width: 0;overflow: hidden;text-align: left;background-color: #f0f8ff;}#sk-container-id-1 div.sk-toggleable__content pre {margin: 0.2em;color: black;border-radius: 0.25em;background-color: #f0f8ff;}#sk-container-id-1 input.sk-toggleable__control:checked~div.sk-toggleable__content {max-height: 200px;max-width: 100%;overflow: auto;}#sk-container-id-1 input.sk-toggleable__control:checked~label.sk-toggleable__label-arrow:before {content: \"▾\";}#sk-container-id-1 div.sk-estimator input.sk-toggleable__control:checked~label.sk-toggleable__label {background-color: #d4ebff;}#sk-container-id-1 div.sk-label input.sk-toggleable__control:checked~label.sk-toggleable__label {background-color: #d4ebff;}#sk-container-id-1 input.sk-hidden--visually {border: 0;clip: rect(1px 1px 1px 1px);clip: rect(1px, 1px, 1px, 1px);height: 1px;margin: -1px;overflow: hidden;padding: 0;position: absolute;width: 1px;}#sk-container-id-1 div.sk-estimator {font-family: monospace;background-color: #f0f8ff;border: 1px dotted black;border-radius: 0.25em;box-sizing: border-box;margin-bottom: 0.5em;}#sk-container-id-1 div.sk-estimator:hover {background-color: #d4ebff;}#sk-container-id-1 div.sk-parallel-item::after {content: \"\";width: 100%;border-bottom: 1px solid gray;flex-grow: 1;}#sk-container-id-1 div.sk-label:hover label.sk-toggleable__label {background-color: #d4ebff;}#sk-container-id-1 div.sk-serial::before {content: \"\";position: absolute;border-left: 1px solid gray;box-sizing: border-box;top: 0;bottom: 0;left: 50%;z-index: 0;}#sk-container-id-1 div.sk-serial {display: flex;flex-direction: column;align-items: center;background-color: white;padding-right: 0.2em;padding-left: 0.2em;position: relative;}#sk-container-id-1 div.sk-item {position: relative;z-index: 1;}#sk-container-id-1 div.sk-parallel {display: flex;align-items: stretch;justify-content: center;background-color: white;position: relative;}#sk-container-id-1 div.sk-item::before, #sk-container-id-1 div.sk-parallel-item::before {content: \"\";position: absolute;border-left: 1px solid gray;box-sizing: border-box;top: 0;bottom: 0;left: 50%;z-index: -1;}#sk-container-id-1 div.sk-parallel-item {display: flex;flex-direction: column;z-index: 1;position: relative;background-color: white;}#sk-container-id-1 div.sk-parallel-item:first-child::after {align-self: flex-end;width: 50%;}#sk-container-id-1 div.sk-parallel-item:last-child::after {align-self: flex-start;width: 50%;}#sk-container-id-1 div.sk-parallel-item:only-child::after {width: 0;}#sk-container-id-1 div.sk-dashed-wrapped {border: 1px dashed gray;margin: 0 0.4em 0.5em 0.4em;box-sizing: border-box;padding-bottom: 0.4em;background-color: white;}#sk-container-id-1 div.sk-label label {font-family: monospace;font-weight: bold;display: inline-block;line-height: 1.2em;}#sk-container-id-1 div.sk-label-container {text-align: center;}#sk-container-id-1 div.sk-container {/* jupyter's `normalize.less` sets `[hidden] { display: none; }` but bootstrap.min.css set `[hidden] { display: none !important; }` so we also need the `!important` here to be able to override the default hidden behavior on the sphinx rendered scikit-learn.org. See: https://github.com/scikit-learn/scikit-learn/issues/21755 */display: inline-block !important;position: relative;}#sk-container-id-1 div.sk-text-repr-fallback {display: none;}</style><div id=\"sk-container-id-1\" class=\"sk-top-container\"><div class=\"sk-text-repr-fallback\"><pre>Pipeline(steps=[(&#x27;columntransformer&#x27;,\n",
       "                 ColumnTransformer(transformers=[(&#x27;one_hot&#x27;, OneHotEncoder(),\n",
       "                                                  [&#x27;sex&#x27;, &#x27;smoker&#x27;, &#x27;region&#x27;,\n",
       "                                                   &#x27;bmi&#x27;]),\n",
       "                                                 (&#x27;scaling&#x27;,\n",
       "                                                  Pipeline(steps=[(&#x27;standardscaler&#x27;,\n",
       "                                                                   StandardScaler())]),\n",
       "                                                  [&#x27;age&#x27;, &#x27;children&#x27;])])),\n",
       "                (&#x27;polynomialfeatures&#x27;, PolynomialFeatures()),\n",
       "                (&#x27;linearregression&#x27;, LinearRegression())])</pre><b>In a Jupyter environment, please rerun this cell to show the HTML representation or trust the notebook. <br />On GitHub, the HTML representation is unable to render, please try loading this page with nbviewer.org.</b></div><div class=\"sk-container\" hidden><div class=\"sk-item sk-dashed-wrapped\"><div class=\"sk-label-container\"><div class=\"sk-label sk-toggleable\"><input class=\"sk-toggleable__control sk-hidden--visually\" id=\"sk-estimator-id-1\" type=\"checkbox\" ><label for=\"sk-estimator-id-1\" class=\"sk-toggleable__label sk-toggleable__label-arrow\">Pipeline</label><div class=\"sk-toggleable__content\"><pre>Pipeline(steps=[(&#x27;columntransformer&#x27;,\n",
       "                 ColumnTransformer(transformers=[(&#x27;one_hot&#x27;, OneHotEncoder(),\n",
       "                                                  [&#x27;sex&#x27;, &#x27;smoker&#x27;, &#x27;region&#x27;,\n",
       "                                                   &#x27;bmi&#x27;]),\n",
       "                                                 (&#x27;scaling&#x27;,\n",
       "                                                  Pipeline(steps=[(&#x27;standardscaler&#x27;,\n",
       "                                                                   StandardScaler())]),\n",
       "                                                  [&#x27;age&#x27;, &#x27;children&#x27;])])),\n",
       "                (&#x27;polynomialfeatures&#x27;, PolynomialFeatures()),\n",
       "                (&#x27;linearregression&#x27;, LinearRegression())])</pre></div></div></div><div class=\"sk-serial\"><div class=\"sk-item sk-dashed-wrapped\"><div class=\"sk-label-container\"><div class=\"sk-label sk-toggleable\"><input class=\"sk-toggleable__control sk-hidden--visually\" id=\"sk-estimator-id-2\" type=\"checkbox\" ><label for=\"sk-estimator-id-2\" class=\"sk-toggleable__label sk-toggleable__label-arrow\">columntransformer: ColumnTransformer</label><div class=\"sk-toggleable__content\"><pre>ColumnTransformer(transformers=[(&#x27;one_hot&#x27;, OneHotEncoder(),\n",
       "                                 [&#x27;sex&#x27;, &#x27;smoker&#x27;, &#x27;region&#x27;, &#x27;bmi&#x27;]),\n",
       "                                (&#x27;scaling&#x27;,\n",
       "                                 Pipeline(steps=[(&#x27;standardscaler&#x27;,\n",
       "                                                  StandardScaler())]),\n",
       "                                 [&#x27;age&#x27;, &#x27;children&#x27;])])</pre></div></div></div><div class=\"sk-parallel\"><div class=\"sk-parallel-item\"><div class=\"sk-item\"><div class=\"sk-label-container\"><div class=\"sk-label sk-toggleable\"><input class=\"sk-toggleable__control sk-hidden--visually\" id=\"sk-estimator-id-3\" type=\"checkbox\" ><label for=\"sk-estimator-id-3\" class=\"sk-toggleable__label sk-toggleable__label-arrow\">one_hot</label><div class=\"sk-toggleable__content\"><pre>[&#x27;sex&#x27;, &#x27;smoker&#x27;, &#x27;region&#x27;, &#x27;bmi&#x27;]</pre></div></div></div><div class=\"sk-serial\"><div class=\"sk-item\"><div class=\"sk-estimator sk-toggleable\"><input class=\"sk-toggleable__control sk-hidden--visually\" id=\"sk-estimator-id-4\" type=\"checkbox\" ><label for=\"sk-estimator-id-4\" class=\"sk-toggleable__label sk-toggleable__label-arrow\">OneHotEncoder</label><div class=\"sk-toggleable__content\"><pre>OneHotEncoder()</pre></div></div></div></div></div></div><div class=\"sk-parallel-item\"><div class=\"sk-item\"><div class=\"sk-label-container\"><div class=\"sk-label sk-toggleable\"><input class=\"sk-toggleable__control sk-hidden--visually\" id=\"sk-estimator-id-5\" type=\"checkbox\" ><label for=\"sk-estimator-id-5\" class=\"sk-toggleable__label sk-toggleable__label-arrow\">scaling</label><div class=\"sk-toggleable__content\"><pre>[&#x27;age&#x27;, &#x27;children&#x27;]</pre></div></div></div><div class=\"sk-serial\"><div class=\"sk-item\"><div class=\"sk-serial\"><div class=\"sk-item\"><div class=\"sk-estimator sk-toggleable\"><input class=\"sk-toggleable__control sk-hidden--visually\" id=\"sk-estimator-id-6\" type=\"checkbox\" ><label for=\"sk-estimator-id-6\" class=\"sk-toggleable__label sk-toggleable__label-arrow\">StandardScaler</label><div class=\"sk-toggleable__content\"><pre>StandardScaler()</pre></div></div></div></div></div></div></div></div></div></div><div class=\"sk-item\"><div class=\"sk-estimator sk-toggleable\"><input class=\"sk-toggleable__control sk-hidden--visually\" id=\"sk-estimator-id-7\" type=\"checkbox\" ><label for=\"sk-estimator-id-7\" class=\"sk-toggleable__label sk-toggleable__label-arrow\">PolynomialFeatures</label><div class=\"sk-toggleable__content\"><pre>PolynomialFeatures()</pre></div></div></div><div class=\"sk-item\"><div class=\"sk-estimator sk-toggleable\"><input class=\"sk-toggleable__control sk-hidden--visually\" id=\"sk-estimator-id-8\" type=\"checkbox\" ><label for=\"sk-estimator-id-8\" class=\"sk-toggleable__label sk-toggleable__label-arrow\">LinearRegression</label><div class=\"sk-toggleable__content\"><pre>LinearRegression()</pre></div></div></div></div></div></div></div>"
      ],
      "text/plain": [
       "Pipeline(steps=[('columntransformer',\n",
       "                 ColumnTransformer(transformers=[('one_hot', OneHotEncoder(),\n",
       "                                                  ['sex', 'smoker', 'region',\n",
       "                                                   'bmi']),\n",
       "                                                 ('scaling',\n",
       "                                                  Pipeline(steps=[('standardscaler',\n",
       "                                                                   StandardScaler())]),\n",
=======
       "<style>#sk-container-id-5 {color: black;}#sk-container-id-5 pre{padding: 0;}#sk-container-id-5 div.sk-toggleable {background-color: white;}#sk-container-id-5 label.sk-toggleable__label {cursor: pointer;display: block;width: 100%;margin-bottom: 0;padding: 0.3em;box-sizing: border-box;text-align: center;}#sk-container-id-5 label.sk-toggleable__label-arrow:before {content: \"▸\";float: left;margin-right: 0.25em;color: #696969;}#sk-container-id-5 label.sk-toggleable__label-arrow:hover:before {color: black;}#sk-container-id-5 div.sk-estimator:hover label.sk-toggleable__label-arrow:before {color: black;}#sk-container-id-5 div.sk-toggleable__content {max-height: 0;max-width: 0;overflow: hidden;text-align: left;background-color: #f0f8ff;}#sk-container-id-5 div.sk-toggleable__content pre {margin: 0.2em;color: black;border-radius: 0.25em;background-color: #f0f8ff;}#sk-container-id-5 input.sk-toggleable__control:checked~div.sk-toggleable__content {max-height: 200px;max-width: 100%;overflow: auto;}#sk-container-id-5 input.sk-toggleable__control:checked~label.sk-toggleable__label-arrow:before {content: \"▾\";}#sk-container-id-5 div.sk-estimator input.sk-toggleable__control:checked~label.sk-toggleable__label {background-color: #d4ebff;}#sk-container-id-5 div.sk-label input.sk-toggleable__control:checked~label.sk-toggleable__label {background-color: #d4ebff;}#sk-container-id-5 input.sk-hidden--visually {border: 0;clip: rect(1px 1px 1px 1px);clip: rect(1px, 1px, 1px, 1px);height: 1px;margin: -1px;overflow: hidden;padding: 0;position: absolute;width: 1px;}#sk-container-id-5 div.sk-estimator {font-family: monospace;background-color: #f0f8ff;border: 1px dotted black;border-radius: 0.25em;box-sizing: border-box;margin-bottom: 0.5em;}#sk-container-id-5 div.sk-estimator:hover {background-color: #d4ebff;}#sk-container-id-5 div.sk-parallel-item::after {content: \"\";width: 100%;border-bottom: 1px solid gray;flex-grow: 1;}#sk-container-id-5 div.sk-label:hover label.sk-toggleable__label {background-color: #d4ebff;}#sk-container-id-5 div.sk-serial::before {content: \"\";position: absolute;border-left: 1px solid gray;box-sizing: border-box;top: 0;bottom: 0;left: 50%;z-index: 0;}#sk-container-id-5 div.sk-serial {display: flex;flex-direction: column;align-items: center;background-color: white;padding-right: 0.2em;padding-left: 0.2em;position: relative;}#sk-container-id-5 div.sk-item {position: relative;z-index: 1;}#sk-container-id-5 div.sk-parallel {display: flex;align-items: stretch;justify-content: center;background-color: white;position: relative;}#sk-container-id-5 div.sk-item::before, #sk-container-id-5 div.sk-parallel-item::before {content: \"\";position: absolute;border-left: 1px solid gray;box-sizing: border-box;top: 0;bottom: 0;left: 50%;z-index: -1;}#sk-container-id-5 div.sk-parallel-item {display: flex;flex-direction: column;z-index: 1;position: relative;background-color: white;}#sk-container-id-5 div.sk-parallel-item:first-child::after {align-self: flex-end;width: 50%;}#sk-container-id-5 div.sk-parallel-item:last-child::after {align-self: flex-start;width: 50%;}#sk-container-id-5 div.sk-parallel-item:only-child::after {width: 0;}#sk-container-id-5 div.sk-dashed-wrapped {border: 1px dashed gray;margin: 0 0.4em 0.5em 0.4em;box-sizing: border-box;padding-bottom: 0.4em;background-color: white;}#sk-container-id-5 div.sk-label label {font-family: monospace;font-weight: bold;display: inline-block;line-height: 1.2em;}#sk-container-id-5 div.sk-label-container {text-align: center;}#sk-container-id-5 div.sk-container {/* jupyter's `normalize.less` sets `[hidden] { display: none; }` but bootstrap.min.css set `[hidden] { display: none !important; }` so we also need the `!important` here to be able to override the default hidden behavior on the sphinx rendered scikit-learn.org. See: https://github.com/scikit-learn/scikit-learn/issues/21755 */display: inline-block !important;position: relative;}#sk-container-id-5 div.sk-text-repr-fallback {display: none;}</style><div id=\"sk-container-id-5\" class=\"sk-top-container\"><div class=\"sk-text-repr-fallback\"><pre>Pipeline(steps=[(&#x27;columntransformer&#x27;,\n",
       "                 ColumnTransformer(transformers=[(&#x27;kbin_discretiser&#x27;,\n",
       "                                                  KBinsDiscretizer(n_bins=6,\n",
       "                                                                   strategy=&#x27;kmeans&#x27;),\n",
       "                                                  [&#x27;bmi&#x27;]),\n",
       "                                                 (&#x27;one_hot&#x27;,\n",
       "                                                  OneHotEncoder(sparse_output=False),\n",
       "                                                  [&#x27;sex&#x27;, &#x27;smoker&#x27;, &#x27;region&#x27;]),\n",
       "                                                 (&#x27;scaling&#x27;, StandardScaler(),\n",
       "                                                  [&#x27;age&#x27;, &#x27;children&#x27;])])),\n",
       "                (&#x27;polynomialfeatures&#x27;, PolynomialFeatures()),\n",
       "                (&#x27;linearregression&#x27;, LinearRegression())])</pre><b>In a Jupyter environment, please rerun this cell to show the HTML representation or trust the notebook. <br />On GitHub, the HTML representation is unable to render, please try loading this page with nbviewer.org.</b></div><div class=\"sk-container\" hidden><div class=\"sk-item sk-dashed-wrapped\"><div class=\"sk-label-container\"><div class=\"sk-label sk-toggleable\"><input class=\"sk-toggleable__control sk-hidden--visually\" id=\"sk-estimator-id-41\" type=\"checkbox\" ><label for=\"sk-estimator-id-41\" class=\"sk-toggleable__label sk-toggleable__label-arrow\">Pipeline</label><div class=\"sk-toggleable__content\"><pre>Pipeline(steps=[(&#x27;columntransformer&#x27;,\n",
       "                 ColumnTransformer(transformers=[(&#x27;kbin_discretiser&#x27;,\n",
       "                                                  KBinsDiscretizer(n_bins=6,\n",
       "                                                                   strategy=&#x27;kmeans&#x27;),\n",
       "                                                  [&#x27;bmi&#x27;]),\n",
       "                                                 (&#x27;one_hot&#x27;,\n",
       "                                                  OneHotEncoder(sparse_output=False),\n",
       "                                                  [&#x27;sex&#x27;, &#x27;smoker&#x27;, &#x27;region&#x27;]),\n",
       "                                                 (&#x27;scaling&#x27;, StandardScaler(),\n",
       "                                                  [&#x27;age&#x27;, &#x27;children&#x27;])])),\n",
       "                (&#x27;polynomialfeatures&#x27;, PolynomialFeatures()),\n",
       "                (&#x27;linearregression&#x27;, LinearRegression())])</pre></div></div></div><div class=\"sk-serial\"><div class=\"sk-item sk-dashed-wrapped\"><div class=\"sk-label-container\"><div class=\"sk-label sk-toggleable\"><input class=\"sk-toggleable__control sk-hidden--visually\" id=\"sk-estimator-id-42\" type=\"checkbox\" ><label for=\"sk-estimator-id-42\" class=\"sk-toggleable__label sk-toggleable__label-arrow\">columntransformer: ColumnTransformer</label><div class=\"sk-toggleable__content\"><pre>ColumnTransformer(transformers=[(&#x27;kbin_discretiser&#x27;,\n",
       "                                 KBinsDiscretizer(n_bins=6, strategy=&#x27;kmeans&#x27;),\n",
       "                                 [&#x27;bmi&#x27;]),\n",
       "                                (&#x27;one_hot&#x27;, OneHotEncoder(sparse_output=False),\n",
       "                                 [&#x27;sex&#x27;, &#x27;smoker&#x27;, &#x27;region&#x27;]),\n",
       "                                (&#x27;scaling&#x27;, StandardScaler(),\n",
       "                                 [&#x27;age&#x27;, &#x27;children&#x27;])])</pre></div></div></div><div class=\"sk-parallel\"><div class=\"sk-parallel-item\"><div class=\"sk-item\"><div class=\"sk-label-container\"><div class=\"sk-label sk-toggleable\"><input class=\"sk-toggleable__control sk-hidden--visually\" id=\"sk-estimator-id-43\" type=\"checkbox\" ><label for=\"sk-estimator-id-43\" class=\"sk-toggleable__label sk-toggleable__label-arrow\">kbin_discretiser</label><div class=\"sk-toggleable__content\"><pre>[&#x27;bmi&#x27;]</pre></div></div></div><div class=\"sk-serial\"><div class=\"sk-item\"><div class=\"sk-estimator sk-toggleable\"><input class=\"sk-toggleable__control sk-hidden--visually\" id=\"sk-estimator-id-44\" type=\"checkbox\" ><label for=\"sk-estimator-id-44\" class=\"sk-toggleable__label sk-toggleable__label-arrow\">KBinsDiscretizer</label><div class=\"sk-toggleable__content\"><pre>KBinsDiscretizer(n_bins=6, strategy=&#x27;kmeans&#x27;)</pre></div></div></div></div></div></div><div class=\"sk-parallel-item\"><div class=\"sk-item\"><div class=\"sk-label-container\"><div class=\"sk-label sk-toggleable\"><input class=\"sk-toggleable__control sk-hidden--visually\" id=\"sk-estimator-id-45\" type=\"checkbox\" ><label for=\"sk-estimator-id-45\" class=\"sk-toggleable__label sk-toggleable__label-arrow\">one_hot</label><div class=\"sk-toggleable__content\"><pre>[&#x27;sex&#x27;, &#x27;smoker&#x27;, &#x27;region&#x27;]</pre></div></div></div><div class=\"sk-serial\"><div class=\"sk-item\"><div class=\"sk-estimator sk-toggleable\"><input class=\"sk-toggleable__control sk-hidden--visually\" id=\"sk-estimator-id-46\" type=\"checkbox\" ><label for=\"sk-estimator-id-46\" class=\"sk-toggleable__label sk-toggleable__label-arrow\">OneHotEncoder</label><div class=\"sk-toggleable__content\"><pre>OneHotEncoder(sparse_output=False)</pre></div></div></div></div></div></div><div class=\"sk-parallel-item\"><div class=\"sk-item\"><div class=\"sk-label-container\"><div class=\"sk-label sk-toggleable\"><input class=\"sk-toggleable__control sk-hidden--visually\" id=\"sk-estimator-id-47\" type=\"checkbox\" ><label for=\"sk-estimator-id-47\" class=\"sk-toggleable__label sk-toggleable__label-arrow\">scaling</label><div class=\"sk-toggleable__content\"><pre>[&#x27;age&#x27;, &#x27;children&#x27;]</pre></div></div></div><div class=\"sk-serial\"><div class=\"sk-item\"><div class=\"sk-estimator sk-toggleable\"><input class=\"sk-toggleable__control sk-hidden--visually\" id=\"sk-estimator-id-48\" type=\"checkbox\" ><label for=\"sk-estimator-id-48\" class=\"sk-toggleable__label sk-toggleable__label-arrow\">StandardScaler</label><div class=\"sk-toggleable__content\"><pre>StandardScaler()</pre></div></div></div></div></div></div></div></div><div class=\"sk-item\"><div class=\"sk-estimator sk-toggleable\"><input class=\"sk-toggleable__control sk-hidden--visually\" id=\"sk-estimator-id-49\" type=\"checkbox\" ><label for=\"sk-estimator-id-49\" class=\"sk-toggleable__label sk-toggleable__label-arrow\">PolynomialFeatures</label><div class=\"sk-toggleable__content\"><pre>PolynomialFeatures()</pre></div></div></div><div class=\"sk-item\"><div class=\"sk-estimator sk-toggleable\"><input class=\"sk-toggleable__control sk-hidden--visually\" id=\"sk-estimator-id-50\" type=\"checkbox\" ><label for=\"sk-estimator-id-50\" class=\"sk-toggleable__label sk-toggleable__label-arrow\">LinearRegression</label><div class=\"sk-toggleable__content\"><pre>LinearRegression()</pre></div></div></div></div></div></div></div>"
      ],
      "text/plain": [
       "Pipeline(steps=[('columntransformer',\n",
       "                 ColumnTransformer(transformers=[('kbin_discretiser',\n",
       "                                                  KBinsDiscretizer(n_bins=6,\n",
       "                                                                   strategy='kmeans'),\n",
       "                                                  ['bmi']),\n",
       "                                                 ('one_hot',\n",
       "                                                  OneHotEncoder(sparse_output=False),\n",
       "                                                  ['sex', 'smoker', 'region']),\n",
       "                                                 ('scaling', StandardScaler(),\n",
>>>>>>> 176b58272513af6ffebc93c1dfa61d60baa1104f
       "                                                  ['age', 'children'])])),\n",
       "                ('polynomialfeatures', PolynomialFeatures()),\n",
       "                ('linearregression', LinearRegression())])"
      ]
     },
<<<<<<< HEAD
=======
     "metadata": {},
     "output_type": "display_data"
    },
    {
     "name": "stderr",
     "output_type": "stream",
     "text": [
      "/home/utilisateur/Bureau/Projets/briefs/PrimeAssuranceIA/.venv/lib/python3.10/site-packages/sklearn/preprocessing/_discretization.py:248: FutureWarning: In version 1.5 onwards, subsample=200_000 will be used by default. Set subsample explicitly to silence this warning in the mean time. Set subsample=None to disable subsampling explicitly.\n",
      "  warnings.warn(\n"
     ]
    },
    {
     "data": {
      "text/plain": [
       "0.9056799795582886"
      ]
     },
     "execution_count": 17,
>>>>>>> 176b58272513af6ffebc93c1dfa61d60baa1104f
     "metadata": {},
     "output_type": "display_data"
    }
   ],
   "source": [
    "linear_model = LinearRegression()\n",
    "\n",
    "pipe_lr = make_pipeline(preprocessing, PolynomialFeatures(2), linear_model)\n",
    "display(pipe_lr)\n",
    "pipe_lr.fit(X_train, y_train)\n",
    "pipe_lr.score(X_test, y_test)\n",
    "display(pipe_lr)"
   ]
  },
  {
   "cell_type": "markdown",
   "metadata": {},
   "source": [
    "## ElasticNet"
   ]
  },
  {
   "cell_type": "code",
   "execution_count": 18,
   "metadata": {},
   "outputs": [
    {
     "name": "stderr",
     "output_type": "stream",
     "text": [
      "/home/utilisateur/Bureau/Projets/briefs/PrimeAssuranceIA/.venv/lib/python3.10/site-packages/sklearn/preprocessing/_discretization.py:248: FutureWarning: In version 1.5 onwards, subsample=200_000 will be used by default. Set subsample explicitly to silence this warning in the mean time. Set subsample=None to disable subsampling explicitly.\n",
      "  warnings.warn(\n"
     ]
    },
    {
     "data": {
      "text/plain": [
       "0.9008028396330596"
      ]
     },
     "execution_count": 18,
     "metadata": {},
     "output_type": "execute_result"
    }
   ],
   "source": [
    "elastic_model = ElasticNet(alpha=0.1, l1_ratio=0.9)\n",
    "\n",
    "pipe_en = make_pipeline(preprocessing, PolynomialFeatures(2), elastic_model)\n",
    "\n",
    "pipe_en.fit(X_train, y_train)\n",
    "pipe_en.score(X_test, y_test)"
   ]
  },
  {
   "cell_type": "markdown",
   "metadata": {},
   "source": [
    "### Recherche parametres avec grid search"
   ]
  },
  {
   "cell_type": "code",
   "execution_count": 7,
   "metadata": {},
   "outputs": [
    {
     "data": {
      "text/plain": [
       "0.7991966248453848"
      ]
     },
     "metadata": {},
     "output_type": "display_data"
    },
    {
     "data": {
      "text/plain": [
       "0.8762770064721639"
      ]
     },
     "metadata": {},
     "output_type": "display_data"
    },
    {
     "data": {
      "text/plain": [
       "{'elasticnet__alpha': 0.4, 'elasticnet__l1_ratio': 0.8000000000000002}"
      ]
     },
     "execution_count": 7,
     "metadata": {},
     "output_type": "execute_result"
    }
   ],
   "source": [
    "params = {\n",
    "    \"elasticnet__alpha\" : np.arange(0.4, 2, 0.2),\n",
    "    \"elasticnet__l1_ratio\" : np.arange(0.4, 1, 0.2),\n",
    "}\n",
    "\n",
    "grid = GridSearchCV(pipe_en, param_grid=params, cv=5)\n",
    "\n",
    "grid.fit(X_train, y_train)\n",
    "display(grid.best_score_)\n",
    "display(grid.score(X_test, y_test))\n",
    "grid.best_params_"
   ]
  },
  {
   "cell_type": "markdown",
   "metadata": {},
   "source": [
    "## Ridge"
   ]
  },
  {
   "cell_type": "code",
   "execution_count": 19,
   "metadata": {},
   "outputs": [
    {
     "name": "stderr",
     "output_type": "stream",
     "text": [
      "/home/utilisateur/Bureau/Projets/briefs/PrimeAssuranceIA/.venv/lib/python3.10/site-packages/sklearn/preprocessing/_discretization.py:248: FutureWarning: In version 1.5 onwards, subsample=200_000 will be used by default. Set subsample explicitly to silence this warning in the mean time. Set subsample=None to disable subsampling explicitly.\n",
      "  warnings.warn(\n",
      "/home/utilisateur/Bureau/Projets/briefs/PrimeAssuranceIA/.venv/lib/python3.10/site-packages/sklearn/preprocessing/_discretization.py:248: FutureWarning: In version 1.5 onwards, subsample=200_000 will be used by default. Set subsample explicitly to silence this warning in the mean time. Set subsample=None to disable subsampling explicitly.\n",
      "  warnings.warn(\n",
      "/home/utilisateur/Bureau/Projets/briefs/PrimeAssuranceIA/.venv/lib/python3.10/site-packages/sklearn/preprocessing/_discretization.py:248: FutureWarning: In version 1.5 onwards, subsample=200_000 will be used by default. Set subsample explicitly to silence this warning in the mean time. Set subsample=None to disable subsampling explicitly.\n",
      "  warnings.warn(\n",
      "/home/utilisateur/Bureau/Projets/briefs/PrimeAssuranceIA/.venv/lib/python3.10/site-packages/sklearn/preprocessing/_discretization.py:248: FutureWarning: In version 1.5 onwards, subsample=200_000 will be used by default. Set subsample explicitly to silence this warning in the mean time. Set subsample=None to disable subsampling explicitly.\n",
      "  warnings.warn(\n",
      "/home/utilisateur/Bureau/Projets/briefs/PrimeAssuranceIA/.venv/lib/python3.10/site-packages/sklearn/preprocessing/_discretization.py:248: FutureWarning: In version 1.5 onwards, subsample=200_000 will be used by default. Set subsample explicitly to silence this warning in the mean time. Set subsample=None to disable subsampling explicitly.\n",
      "  warnings.warn(\n"
     ]
    },
    {
     "data": {
      "text/plain": [
       "array([0.8751984 , 0.7936725 , 0.88295313, 0.82034218, 0.84866681])"
      ]
     },
     "metadata": {},
     "output_type": "display_data"
    },
    {
     "data": {
      "text/plain": [
       "0.8441666034973071"
      ]
     },
     "metadata": {},
     "output_type": "display_data"
    },
    {
     "name": "stderr",
     "output_type": "stream",
     "text": [
      "/home/utilisateur/Bureau/Projets/briefs/PrimeAssuranceIA/.venv/lib/python3.10/site-packages/sklearn/preprocessing/_discretization.py:248: FutureWarning: In version 1.5 onwards, subsample=200_000 will be used by default. Set subsample explicitly to silence this warning in the mean time. Set subsample=None to disable subsampling explicitly.\n",
      "  warnings.warn(\n"
     ]
    },
    {
     "data": {
      "text/plain": [
       "0.9059221358551051"
      ]
     },
     "execution_count": 19,
     "metadata": {},
     "output_type": "execute_result"
    }
   ],
   "source": [
    "ridge_model = Ridge(alpha=1.9)\n",
    "\n",
    "pipe_r = make_pipeline(preprocessing, PolynomialFeatures(2), ridge_model)\n",
    "\n",
    "cv_scores = cross_val_score(pipe_r, X, y, cv=5)\n",
    "display(cv_scores)\n",
    "display(cv_scores.mean())\n",
    "\n",
    "pipe_r.fit(X_train, y_train)\n",
    "pipe_r.score(X_test, y_test)"
   ]
  },
  {
   "cell_type": "markdown",
   "metadata": {},
   "source": [
    "### Recherches des parametres avec grid search"
   ]
  },
  {
   "cell_type": "code",
   "execution_count": 9,
   "metadata": {},
   "outputs": [
    {
     "data": {
      "text/plain": [
       "0.8456389806068112"
      ]
     },
     "metadata": {},
     "output_type": "display_data"
    },
    {
     "data": {
      "text/plain": [
       "0.9203439595296002"
      ]
     },
     "metadata": {},
     "output_type": "display_data"
    },
    {
     "data": {
      "text/plain": [
       "{'ridge__alpha': 0.5}"
      ]
     },
     "execution_count": 9,
     "metadata": {},
     "output_type": "execute_result"
    }
   ],
   "source": [
    "params = {\n",
    "    \"ridge__alpha\" : np.arange(0.5, 2, 0.1)\n",
    "}\n",
    "\n",
    "grid = GridSearchCV(pipe_r, param_grid=params, cv=5)\n",
    "\n",
    "grid.fit(X_train, y_train)\n",
    "display(grid.best_score_)\n",
    "display(grid.score(X_test, y_test))\n",
    "grid.best_params_"
   ]
  },
  {
   "cell_type": "markdown",
   "metadata": {},
   "source": [
    "## Lasso"
   ]
  },
  {
   "cell_type": "code",
   "execution_count": 5,
   "metadata": {},
   "outputs": [
    {
     "name": "stdout",
     "output_type": "stream",
     "text": [
      "Score du modèle sur le testing set :  0.922984950453674\n"
     ]
    }
   ],
   "source": [
    "lasso_model = Lasso(alpha=37.3)\n",
    "\n",
    "pipe_l = make_pipeline(preprocessing, PolynomialFeatures(2), lasso_model)\n",
    "\n",
    "pipe_l.fit(X_train, y_train)\n",
    "print(\"Score du modèle sur le testing set : \", pipe_l.score(X_test, y_test))"
   ]
  },
  {
   "cell_type": "markdown",
   "metadata": {},
   "source": [
    "### Coefficients des features du modele"
   ]
  },
  {
   "cell_type": "code",
   "execution_count": 45,
   "metadata": {},
   "outputs": [
    {
     "data": {
      "text/html": [
       "<div>\n",
       "<style scoped>\n",
       "    .dataframe tbody tr th:only-of-type {\n",
       "        vertical-align: middle;\n",
       "    }\n",
       "\n",
       "    .dataframe tbody tr th {\n",
       "        vertical-align: top;\n",
       "    }\n",
       "\n",
       "    .dataframe thead th {\n",
       "        text-align: right;\n",
       "    }\n",
       "</style>\n",
       "<table border=\"1\" class=\"dataframe\">\n",
       "  <thead>\n",
       "    <tr style=\"text-align: right;\">\n",
       "      <th></th>\n",
       "      <th>Coefficients</th>\n",
       "    </tr>\n",
       "  </thead>\n",
       "  <tbody>\n",
       "    <tr>\n",
       "      <th>1</th>\n",
       "      <td>0.000000</td>\n",
       "    </tr>\n",
       "    <tr>\n",
       "      <th>one_hot__sex_female</th>\n",
       "      <td>0.000000</td>\n",
       "    </tr>\n",
       "    <tr>\n",
       "      <th>one_hot__sex_male</th>\n",
       "      <td>-0.000000</td>\n",
       "    </tr>\n",
       "    <tr>\n",
       "      <th>one_hot__smoker_no</th>\n",
       "      <td>-14230.714660</td>\n",
       "    </tr>\n",
       "    <tr>\n",
       "      <th>one_hot__smoker_yes</th>\n",
       "      <td>0.000000</td>\n",
       "    </tr>\n",
       "    <tr>\n",
       "      <th>...</th>\n",
       "      <td>...</td>\n",
       "    </tr>\n",
       "    <tr>\n",
       "      <th>one_hot__bmi_Underweight scaling__age</th>\n",
       "      <td>0.000000</td>\n",
       "    </tr>\n",
       "    <tr>\n",
       "      <th>one_hot__bmi_Underweight scaling__children</th>\n",
       "      <td>-0.000000</td>\n",
       "    </tr>\n",
       "    <tr>\n",
       "      <th>scaling__age^2</th>\n",
       "      <td>772.473113</td>\n",
       "    </tr>\n",
       "    <tr>\n",
       "      <th>scaling__age scaling__children</th>\n",
       "      <td>5.154263</td>\n",
       "    </tr>\n",
       "    <tr>\n",
       "      <th>scaling__children^2</th>\n",
       "      <td>-92.713901</td>\n",
       "    </tr>\n",
       "  </tbody>\n",
       "</table>\n",
       "<p>153 rows × 1 columns</p>\n",
       "</div>"
      ],
      "text/plain": [
       "                                            Coefficients\n",
       "1                                               0.000000\n",
       "one_hot__sex_female                             0.000000\n",
       "one_hot__sex_male                              -0.000000\n",
       "one_hot__smoker_no                         -14230.714660\n",
       "one_hot__smoker_yes                             0.000000\n",
       "...                                                  ...\n",
       "one_hot__bmi_Underweight scaling__age           0.000000\n",
       "one_hot__bmi_Underweight scaling__children     -0.000000\n",
       "scaling__age^2                                772.473113\n",
       "scaling__age scaling__children                  5.154263\n",
       "scaling__children^2                           -92.713901\n",
       "\n",
       "[153 rows x 1 columns]"
      ]
     },
     "metadata": {},
     "output_type": "display_data"
    }
   ],
   "source": [
    "feature_names = pipe_l[:-1].get_feature_names_out()\n",
    "\n",
    "\n",
    "coefs = pd.DataFrame(\n",
    "    pipe_l.named_steps[\"lasso\"].coef_,\n",
    "    columns=[\"Coefficients\"],\n",
    "    index=feature_names,\n",
    ")\n",
    "\n",
    "coefs.to_csv(\"test.csv\")\n",
    "\n",
    "display(coefs)"
   ]
  },
  {
   "cell_type": "markdown",
   "metadata": {},
   "source": [
    "### Prediction avec lasso"
   ]
  },
  {
   "cell_type": "code",
   "execution_count": 32,
   "metadata": {},
   "outputs": [
    {
     "data": {
      "text/plain": [
       "array([ 0.00000000e+00,  0.00000000e+00, -0.00000000e+00, -1.42307147e+04,\n",
       "        0.00000000e+00,  0.00000000e+00,  0.00000000e+00, -0.00000000e+00,\n",
       "       -6.58039003e+02, -0.00000000e+00,  0.00000000e+00,  4.02493606e+02,\n",
       "        0.00000000e+00, -0.00000000e+00, -0.00000000e+00,  3.47560048e+03,\n",
       "        4.55725951e+02,  0.00000000e+00,  0.00000000e+00,  0.00000000e+00,\n",
       "        0.00000000e+00,  0.00000000e+00, -0.00000000e+00,  0.00000000e+00,\n",
       "       -0.00000000e+00, -0.00000000e+00,  1.64239628e+02,  0.00000000e+00,\n",
       "        0.00000000e+00, -0.00000000e+00, -0.00000000e+00,  0.00000000e+00,\n",
       "       -0.00000000e+00, -0.00000000e+00, -4.46682424e+02,  0.00000000e+00,\n",
       "       -0.00000000e+00,  0.00000000e+00, -0.00000000e+00, -0.00000000e+00,\n",
       "       -0.00000000e+00, -0.00000000e+00,  0.00000000e+00, -0.00000000e+00,\n",
       "        0.00000000e+00, -0.00000000e+00,  0.00000000e+00,  1.54117376e+01,\n",
       "       -3.00943172e+02,  0.00000000e+00,  4.87988456e+02, -0.00000000e+00,\n",
       "       -2.42959839e+02, -0.00000000e+00,  0.00000000e+00, -0.00000000e+00,\n",
       "        0.00000000e+00, -4.56859488e+01,  0.00000000e+00, -0.00000000e+00,\n",
       "        0.00000000e+00,  3.31180477e+02,  2.55500268e+01, -0.00000000e+00,\n",
       "        0.00000000e+00,  0.00000000e+00, -0.00000000e+00, -2.09397069e+03,\n",
       "        1.58512972e+04,  1.80891667e+04,  1.93365831e+04, -0.00000000e+00,\n",
       "       -0.00000000e+00,  0.00000000e+00, -0.00000000e+00,  0.00000000e+00,\n",
       "        0.00000000e+00,  0.00000000e+00,  0.00000000e+00, -0.00000000e+00,\n",
       "        0.00000000e+00,  4.88998561e+02,  0.00000000e+00,  0.00000000e+00,\n",
       "       -0.00000000e+00, -0.00000000e+00,  1.33408346e+02,  0.00000000e+00,\n",
       "        0.00000000e+00,  0.00000000e+00, -0.00000000e+00,  0.00000000e+00,\n",
       "        0.00000000e+00, -0.00000000e+00, -0.00000000e+00,  0.00000000e+00,\n",
       "       -0.00000000e+00,  2.88396648e+02, -0.00000000e+00,  0.00000000e+00,\n",
       "        0.00000000e+00,  2.21572351e+02, -0.00000000e+00,  0.00000000e+00,\n",
       "       -6.19214400e+01,  0.00000000e+00,  3.77386981e+02, -0.00000000e+00,\n",
       "       -3.41303472e+00, -0.00000000e+00, -0.00000000e+00, -0.00000000e+00,\n",
       "       -0.00000000e+00,  0.00000000e+00, -0.00000000e+00,  0.00000000e+00,\n",
       "       -2.85266102e+01, -0.00000000e+00,  0.00000000e+00,  0.00000000e+00,\n",
       "        0.00000000e+00,  0.00000000e+00,  0.00000000e+00, -0.00000000e+00,\n",
       "       -5.46756297e+01,  0.00000000e+00,  0.00000000e+00,  0.00000000e+00,\n",
       "        0.00000000e+00,  0.00000000e+00, -0.00000000e+00,  4.19815982e+01,\n",
       "        1.26024405e+00,  0.00000000e+00,  0.00000000e+00,  0.00000000e+00,\n",
       "       -0.00000000e+00,  1.55839300e+02,  0.00000000e+00,  0.00000000e+00,\n",
       "        0.00000000e+00,  0.00000000e+00, -0.00000000e+00, -0.00000000e+00,\n",
       "        0.00000000e+00,  8.70545398e+01,  1.98753801e+02, -0.00000000e+00,\n",
       "        0.00000000e+00, -0.00000000e+00,  7.72473113e+02,  5.15426337e+00,\n",
       "       -9.27139010e+01])"
      ]
     },
     "execution_count": 32,
     "metadata": {},
     "output_type": "execute_result"
    }
   ],
   "source": [
    "pred = {\"age\": 27,\n",
    "        \"sex\": \"male\",\n",
    "        \"bmi\": \"Overweight\",\n",
    "        \"children\": 0,\n",
    "        \"smoker\": \"yes\",\n",
    "        \"region\": \"northwest\"\n",
    "        }\n",
    "\n",
    "prediction = pd.DataFrame(pred, index=[0])\n",
    "\n",
    "pipe_l.predict(prediction)[0]"
   ]
  },
  {
   "cell_type": "markdown",
   "metadata": {},
   "source": [
    "### Calcul des distance de Cook"
   ]
  },
  {
   "cell_type": "code",
   "execution_count": 6,
   "metadata": {},
   "outputs": [
    {
     "data": {
      "image/png": "iVBORw0KGgoAAAANSUhEUgAAA18AAAIjCAYAAAD80aFnAAAAOXRFWHRTb2Z0d2FyZQBNYXRwbG90bGliIHZlcnNpb24zLjguMiwgaHR0cHM6Ly9tYXRwbG90bGliLm9yZy8g+/7EAAAACXBIWXMAAA9hAAAPYQGoP6dpAACGp0lEQVR4nO3de3zP9f//8ft7Yxtjm+PmMCYRIuQwxyjLKhVRyUeRdD44daIT6lOkT6WipG/RSQ4llaQcS1nkVAipiLAh2Zhy2J6/P96/99ve2/u9vd/b+7T3btfL5X1hr9fz/Xo9X8f36/F8Pl/Pp8UYYwQAAAAA8KmwQGcAAAAAAMoCgi8AAAAA8AOCLwAAAADwA4IvAAAAAPADgi8AAAAA8AOCLwAAAADwA4IvAAAAAPADgi8AAAAA8AOCLwAAAADwA4IvAPCB7t27q3nz5oHORqFmzpwpi8Wi3bt3BzorAbVz50717NlTsbGxslgsWrBgQaCz5HU333yzKlWq5Nd1JiUl6corr/TrOoNFUlKSbr755kBnA0AQIvgCENJ+++033XHHHTrnnHMUFRWlmJgYde7cWS+99JL++eefQGdPSUlJGjduXImXs3LlSlksFvsnMjJS8fHx6t69u5555hkdOnSo5JmVdOLECY0bN04rV670yvKCweDBg7V582Y9/fTTevfdd9W2bVufrWv37t0Oxyn/Z+LEiT5bd0kZY/Tuu+/qoosuUlxcnCpWrKgWLVroySefVHZ2dqCz53erV6/WuHHjdPTo0UBnBUApUi7QGQAAX/n888913XXXKTIyUoMGDVLz5s116tQpffvtt3rwwQe1detWTZ8+PdDZ9Kphw4apXbt2ysnJ0aFDh7R69WqNHTtWL7zwgubOnatLLrnEnvamm27SDTfcoMjISLeXf+LECY0fP16StXavtPvnn3+UlpamRx99VPfee6/f1jtgwABdccUVBaa3bt3ab3nwRE5Ojv7zn/9o7ty56tq1q8aNG6eKFStq1apVGj9+vObNm6elS5cqPj4+0Fn1m9WrV2v8+PG6+eabFRcX5zBvx44dCgujfBtAQQRfAELSrl27dMMNN6h+/fpavny5atWqZZ93zz336Ndff9Xnn38ewBz6RteuXXXttdc6TPvxxx/Vs2dP9evXTz///LN9X4SHhys8PDwQ2QwathrB/A/PJZGdna3o6OhC01x44YW68cYbvbZOX5s0aZLmzp2rBx54QM8995x9+u23367rr79effr00c0336wvvvgigLl0zp3j4W2eFGgAKFsolgEQkiZNmqTjx4/rzTffdAi8bM4991wNHz7c/veZM2f01FNPqWHDhoqMjFRSUpIeeeQRnTx5ssB3X331VZ1//vmKjIxU7dq1dc8997jV9Oirr75SxYoVNWDAAJ05c8ZpmtOnT2v8+PFq1KiRoqKiVK1aNXXp0kVLlixxf+PzadmypSZPnqyjR49qypQp9unO3vlat26dUlNTVb16dVWoUEENGjTQLbfcIsnaZK5GjRqSpPHjx9ubytmaTf7000+6+eab7U08ExISdMstt+ivv/5yyM+4ceNksVj066+/2msNYmNjNWTIEJ04caJA/t977z21b99eFStWVJUqVXTRRRfpq6++ckjzxRdfqGvXroqOjlblypXVq1cvbd26tdD9Mm7cONWvX1+S9OCDD8pisSgpKck+f+PGjbr88ssVExOjSpUqqUePHvr+++8dlmHbh19//bXuvvtu1axZU3Xr1i10ve765JNP1KtXL9WuXVuRkZFq2LChnnrqKeXk5BRIu2bNGl1xxRWqUqWKoqOjdcEFF+ill14qkG7fvn3q06ePKlWqpBo1auiBBx5wury8/vnnHz333HNq3LixJkyYUGD+VVddpcGDB2vx4sUF9o9kPe9btWqlqKgoNWvWTPPnz3eY7+45v337dl177bWqWrWqoqKi1LZtW3366acOaVwdjw8//NA+Pb/XX39dFotFW7ZskeTeeTxu3Dg9+OCDkqQGDRrYrwXbteTsna/ff/9d1113napWraqKFSuqQ4cOBQqAbM2H586dq6efflp169ZVVFSUevTooV9//bVA3gGUPtR8AQhJn332mc455xx16tTJrfS33nqr3n77bV177bW6//77tWbNGk2YMEHbtm3Txx9/bE83btw4jR8/XikpKbrrrru0Y8cOvfbaa/rhhx/03XffqXz58k6Xv3DhQl177bXq37+/3nrrLZc1TuPGjdOECRN06623qn379srKytK6deu0YcMGXXrppZ7viP/v2muv1dChQ/XVV1/p6aefdprm4MGD6tmzp2rUqKHRo0crLi5Ou3fvtj8s16hRQ6+99pruuusuXXPNNerbt68k6YILLpAkLVmyRL///ruGDBmihIQEe7POrVu36vvvv5fFYnFY3/XXX68GDRpowoQJ2rBhg/7v//5PNWvW1LPPPmtPM378eI0bN06dOnXSk08+qYiICK1Zs0bLly9Xz549JUnvvvuuBg8erNTUVD377LM6ceKEXnvtNXXp0kUbN250CKjy6tu3r+Li4jRy5Eh7M0BbpxRbt25V165dFRMTo4ceekjly5fX66+/ru7du+vrr79WcnKyw7Luvvtu1ahRQ0888YRb7z+dOHFChw8fLjA9Li5O5cpZf5pnzpypSpUqadSoUapUqZKWL1+uJ554QllZWQ61T0uWLNGVV16pWrVqafjw4UpISNC2bdu0cOFChwKGnJwcpaamKjk5Wf/73/+0dOlSPf/882rYsKHuuusul3n99ttv9ffff2v48OH2vOU3aNAgzZgxQwsXLlSHDh3s03fu3Kn+/fvrzjvv1ODBgzVjxgxdd911Wrx4sf18duec37p1qzp37qw6depo9OjRio6O1ty5c9WnTx999NFHuuaaaxzyk/949OrVS5UqVdLcuXPVrVs3h7Rz5szR+eefb+8gx53zuG/fvvrll1/0wQcf6MUXX1T16tUlyV44kV9GRoY6deqkEydOaNiwYapWrZrefvttXX311frwww8L5H/ixIkKCwvTAw88oMzMTE2aNEkDBw7UmjVrXB4nAKWEAYAQk5mZaSSZ3r17u5V+06ZNRpK59dZbHaY/8MADRpJZvny5McaYgwcPmoiICNOzZ0+Tk5NjTzdlyhQjybz11lv2ad26dTPnn3++McaYjz76yJQvX97cdtttDt9zpmXLlqZXr15u5TuvFStWGElm3rx5hS67SpUq9r9nzJhhJJldu3YZY4z5+OOPjSTzww8/uFzGoUOHjCQzduzYAvNOnDhRYNoHH3xgJJlvvvnGPm3s2LFGkrnlllsc0l5zzTWmWrVq9r937txpwsLCzDXXXFNgv+Xm5hpjjDl27JiJi4szt912m8P89PR0ExsbW2B6frt27TKSzHPPPecwvU+fPiYiIsL89ttv9mn79+83lStXNhdddJF9mm0fdunSxZw5c6bQdeVdn6tPWlqaPa2z/XnHHXeYihUrmn///dcYY8yZM2dMgwYNTP369c3ff//tkNa2j4wxZvDgwUaSefLJJx3StG7d2rRp06bQPE+ePNlIMh9//LHLNEeOHDGSTN++fe3T6tevbySZjz76yD4tMzPT1KpVy7Ru3do+zZ1zvkePHqZFixb27bZtX6dOnUyjRo3s0wo7HgMGDDA1a9Z0mH7gwAETFhbmsF/cPY+fe+45h+snr/r165vBgwfb/x4xYoSRZFatWmWfduzYMdOgQQOTlJRkP79t13HTpk3NyZMn7WlfeuklI8ls3ry5sN0EoBSg2SGAkJOVlSVJqly5slvpFy1aJEkaNWqUw/T7779fkuxNg5YuXapTp05pxIgRDi/T33bbbYqJiXH6DtkHH3yg/v3764477tDrr79e5Ev4cXFx2rp1q3bu3OlW3j1RqVIlHTt2rNB1S9ZautOnT3u8/AoVKtj//++//+rw4cP2WpANGzYUSH/nnXc6/N21a1f99ddf9uO3YMEC5ebm6oknniiw32y1aEuWLNHRo0c1YMAAHT582P4JDw9XcnKyVqxY4fF25OTk6KuvvlKfPn10zjnn2KfXqlVL//nPf/Ttt9/a82hz2223efT+3O23364lS5YU+DRr1syeJu/+PHbsmA4fPqyuXbvqxIkT2r59uyRr08hdu3ZpxIgRBd5by1/TKDnf57///nuhebWdM4VdT7Z5+fdL7dq1HWp1YmJiNGjQIG3cuFHp6emSij7njxw5ouXLl+v666+374fDhw/rr7/+Umpqqnbu3Kl9+/Y5fMfZ8ejfv78OHjzo0FPnhx9+qNzcXPXv398+zdPz2B2LFi1S+/bt1aVLF/u0SpUq6fbbb9fu3bv1888/O6QfMmSIIiIi7H937dpVkoo8VgCCH8EXgJATExMjSYUGGnn98ccfCgsL07nnnuswPSEhQXFxcfrjjz/s6STpvPPOc0gXERGhc845xz7fZteuXbrxxhvVr18/vfLKK04fhvN78skndfToUTVu3FgtWrTQgw8+qJ9++smt7SjK8ePHC32A7tatm/r166fx48erevXq6t27t2bMmOH0vTdnjhw5ouHDhys+Pl4VKlRQjRo11KBBA0lSZmZmgfT16tVz+LtKlSqSpL///luSdZiAsLAwh4AkP9sD+yWXXKIaNWo4fL766isdPHjQrbzndejQIZ04caLAcZakpk2bKjc3V3v37nWYbttOdzVq1EgpKSkFPrZzV7I2tbvmmmsUGxurmJgY1ahRw95Jh21//vbbb5Lk1phyUVFRBZrFValSxb6/XbGdM4VdT64CtHPPPbfAed+4cWNJsr8fVdQ5/+uvv8oYo8cff7zAMR47dqwkFTjOzo7HZZddptjYWM2ZM8c+bc6cOWrVqpU9T5Ln57E7/vjjD5fnk21+XkVdGwBKL975AhByYmJiVLt2bfsL9O5yJzjyRK1atVSrVi0tWrRI69atc2v8qIsuuki//fabPvnkE3311Vf6v//7P7344ouaNm2abr311mLn5fTp0/rll18KfUi3WCz68MMP9f333+uzzz7Tl19+qVtuuUXPP/+8vv/++yIH6b3++uu1evVqPfjgg2rVqpUqVaqk3NxcXXbZZcrNzS2Q3lVNkTHG7e2yLffdd99VQkJCgfmu3lHytry1Jd5w9OhRdevWTTExMXryySfVsGFDRUVFacOGDXr44Yed7s+iFLdnS1uA8NNPP6lPnz5O09iCpcICZVeKOudt2/rAAw8oNTXV6TLyF5w4Ox6RkZHq06ePPv74Y7366qvKyMjQd999p2eeecYhnafnsS9449oAEJwIvgCEpCuvvFLTp09XWlqaOnbsWGja+vXrKzc3Vzt37rQ/aErWl+SPHj1q7xHP9u+OHTscmqOdOnVKu3btUkpKisNyo6KitHDhQl1yySW67LLL9PXXX+v8888vMu9Vq1bVkCFDNGTIEB0/flwXXXSRxo0bV6Lg68MPP9Q///zj8uE1rw4dOqhDhw56+umnNWvWLA0cOFCzZ8/Wrbfe6jJA/fvvv7Vs2TKNHz9eTzzxhH16SZpPNmzYULm5ufr555/VqlUrl2kkqWbNmgX2f3HVqFFDFStW1I4dOwrM2759u8LCwpSYmOiVdbmycuVK/fXXX5o/f74uuugi+/Rdu3Y5pLNt/5YtW7y2/fl16dJFcXFxmjVrlh599FGngcE777wjyXrd5WWrtcp73vzyyy+S5NARSmHnvO1aK1++fIm3sX///nr77be1bNkybdu2TcYYhyaHnpzHnhTW1K9f3+X5ZJsPoGyg2SGAkPTQQw8pOjpat956qzIyMgrM/+233+xdcdsGu508ebJDmhdeeEGS1KtXL0lSSkqKIiIi9PLLLzuUQL/55pvKzMy0p8srNjZWX375pWrWrKlLL73U3kzMlfzdsleqVEnnnnuu203/nPnxxx81YsQIValSRffcc4/LdH///XeBknVb0GNbf8WKFSWpQNf6tgfy/N/Pv0890adPH4WFhenJJ58sUONgW09qaqpiYmL0zDPPOH1PzTaOlyfCw8PVs2dPffLJJw7d8GdkZGjWrFnq0qWLQ/NAX3C2P0+dOqVXX33VId2FF16oBg0a2IcSyMtbtSQVK1bUAw88oB07dujRRx8tMP/zzz/XzJkzlZqa6tDToSTt37/fobfQrKwsvfPOO2rVqpW9prKoc75mzZrq3r27Xn/9dR04cKDA+j05xikpKapatarmzJmjOXPmqH379g5NFD05j21jh7kzzMQVV1yhtWvXKi0tzT4tOztb06dPV1JSUrFqDAGUTtR8AQhJDRs21KxZs9S/f381bdpUgwYNUvPmzXXq1CmtXr1a8+bNs4/D07JlSw0ePFjTp0+3N/dau3at3n77bfXp00cXX3yxJGuNyJgxYzR+/Hhddtlluvrqq7Vjxw69+uqrateunctBc6tXr64lS5aoS5cuSklJ0bfffqs6deo4TdusWTN1795dbdq0UdWqVbVu3Tp9+OGHuvfee93a7lWrVunff/9VTk6O/vrrL3333Xf69NNPFRsbq48//thp0zybt99+W6+++qquueYaNWzYUMeOHdMbb7yhmJgYe4BaoUIFNWvWTHPmzFHjxo1VtWpVNW/eXM2bN9dFF12kSZMm6fTp06pTp46++uqrAjU1njj33HP16KOP6qmnnlLXrl3Vt29fRUZG6ocfflDt2rU1YcIExcTE6LXXXtNNN92kCy+8UDfccINq1KihPXv26PPPP1fnzp0dxjZz13//+1/7Mbv77rtVrlw5vf766zp58qQmTZpU7G2y2bBhg957770C0xs2bKiOHTuqU6dOqlKligYPHqxhw4bJYrHo3XffLRAUhIWF6bXXXtNVV12lVq1aaciQIapVq5a2b9+urVu36ssvvyxxXiVp9OjR2rhxo5599lmlpaWpX79+qlChgr799lu99957atq0qd5+++0C32vcuLGGDh2qH374QfHx8XrrrbeUkZGhGTNm2NO4c85PnTpVXbp0UYsWLXTbbbfpnHPOUUZGhtLS0vTnn3/qxx9/dGs7ypcvr759+2r27NnKzs7W//73P4f5MTExbp/Hbdq0kSQ9+uijuuGGG1S+fHldddVVTgd0Hj16tD744ANdfvnlGjZsmKpWraq3335bu3bt0kcffVRkRzwAQkhA+lgEAD/55ZdfzG233WaSkpJMRESEqVy5suncubN55ZVXHLqtPn36tBk/frxp0KCBKV++vElMTDRjxoxxSGMzZcoU06RJE1O+fHkTHx9v7rrrrgLdfOftat7m119/NbVq1TJNmzY1hw4dcprf//73v6Z9+/YmLi7OVKhQwTRp0sQ8/fTT5tSpU4Vup62LatunfPnypkaNGuaiiy4yTz/9tDl48GCB7+Tvan7Dhg1mwIABpl69eiYyMtLUrFnTXHnllWbdunUO31u9erVp06aNiYiIcOh2/s8//zTXXHONiYuLM7Gxsea6664z+/fvL9A1va2r+fz7IH9+bN566y3TunVrExkZaapUqWK6detmlixZUmD7U1NTTWxsrImKijINGzY0N998c4G85+eqq3nb/khNTTWVKlUyFStWNBdffLFZvXq10zwX1j2/s/W5+uTtnvy7774zHTp0MBUqVDC1a9c2Dz30kPnyyy+NJLNixQqH5X777bfm0ksvNZUrVzbR0dHmggsuMK+88op9/uDBg010dHSB/NiOhTtycnLMjBkzTOfOnU1MTIyJiooy559/vhk/frw5fvx4gfT169c3vXr1Ml9++aW54IILTGRkpGnSpEmB4RDcPed/++03M2jQIJOQkGDKly9v6tSpY6688krz4Ycf2tO4czyWLFliJBmLxWL27t1bYL6757Exxjz11FOmTp06JiwszOHczd/VvC3/1157rYmLizNRUVGmffv2ZuHChQ5pXA0ZYTtvZsyY4XK7AJQOFmN4exMAAAAAfI16bgAAAADwA4IvAAAAAPADgi8AAAAA8AOCLwAAAADwA4IvAAAAAPADgi8AAAAA8AMGWS6m3Nxc7d+/X5UrV5bFYgl0dgAAAAAEiDFGx44dU+3atQsdOJ3gq5j279+vxMTEQGcDAAAAQJDYu3ev6tat63I+wVcxVa5cWZJ1B8fExAQ4NwAAAAACJSsrS4mJifYYwRWCr2KyNTWMiYkh+AIAAABQ5OtIdLgBAAAAAH5A8AUAAAAAfkDwBQAAAAB+QPAFAAAAAH5A8AUAAAAAfkDwBQAAAAB+QPAFAAAAAH5A8AUAAAAAfkDwBQAAAAB+QPAFAAAAAH5A8AUAAAAAfkDwBQAAAAB+QPAFAAAAAH5QLtAZAAAAAEqjnBxp1SrpwAGpVi2pa1cpPDzQuUIwI/gCAAAAPDR/vjR8uPTnn2en1a0rvfSS1Ldv4PKF4EazQwAAAMAD8+dL117rGHhJ0r591unz5wcmXwh+BF8AAACAm3JyrDVexhScZ5s2YoQ1HZAfwRcAAADgplWrCtZ45WWMtHevNR2QH8EXAAAA4KYDB7ybDmULwRcAAADgplq1vJsOZQvBFwAAAOCmrl2tvRpaLM7nWyxSYqI1HZAfwRcAAADgpvBwa3fyUsEAzPb35MmM9wXnCL4AAAAAD/TtK334oVS7tuP0unWt0xnnC64wyDIAAADgob59pZQUKTbW+veiRVLPntR4oXDUfAEAAADFkDfQuugiAi8UjeALAAAAAPyA4AsAAAAA/IDgCwAAAAD8gOALAAAAAPyA4AsAAAAA/IDgCwAAAAD8gOALAAAAAPyA4AsAAAAA/IDgCwAAAAD8gOALAAAAAPyA4AsAAAAA/IDgCwAAAAD8gOALAAAAAPyA4AsAAAAA/IDgCwAAAAD8gOALAAAAAPyA4AsAAAAA/IDgCwAAAAD8gOALAAAAAPyA4AsAAAAA/CAogq+pU6cqKSlJUVFRSk5O1tq1awtNP2/ePDVp0kRRUVFq0aKFFi1a5DB/3LhxatKkiaKjo1WlShWlpKRozZo1DmmSkpJksVgcPhMnTvT6tgEAAACAFATB15w5czRq1CiNHTtWGzZsUMuWLZWamqqDBw86Tb969WoNGDBAQ4cO1caNG9WnTx/16dNHW7Zssadp3LixpkyZos2bN+vbb79VUlKSevbsqUOHDjks68knn9SBAwfsn/vuu8+n2woAAACg7LIYY0wgM5CcnKx27dppypQpkqTc3FwlJibqvvvu0+jRowuk79+/v7Kzs7Vw4UL7tA4dOqhVq1aaNm2a03VkZWUpNjZWS5cuVY8ePSRZa75GjBihESNGFCvftmVmZmYqJiamWMsAAABA6ZWdLVWqZP3/8eNSdHRg84PAcTc2CGjN16lTp7R+/XqlpKTYp4WFhSklJUVpaWlOv5OWluaQXpJSU1Ndpj916pSmT5+u2NhYtWzZ0mHexIkTVa1aNbVu3VrPPfeczpw54zKvJ0+eVFZWlsMHAAAAANxVLpArP3z4sHJychQfH+8wPT4+Xtu3b3f6nfT0dKfp09PTHaYtXLhQN9xwg06cOKFatWppyZIlql69un3+sGHDdOGFF6pq1apavXq1xowZowMHDuiFF15wut4JEyZo/PjxxdlMAAAAAAhs8OVLF198sTZt2qTDhw/rjTfe0PXXX681a9aoZs2akqRRo0bZ015wwQWKiIjQHXfcoQkTJigyMrLA8saMGePwnaysLCUmJvp+QwAAAACEhIA2O6xevbrCw8OVkZHhMD0jI0MJCQlOv5OQkOBW+ujoaJ177rnq0KGD3nzzTZUrV05vvvmmy7wkJyfrzJkz2r17t9P5kZGRiomJcfgAAAAAgLsCGnxFRESoTZs2WrZsmX1abm6uli1bpo4dOzr9TseOHR3SS9KSJUtcps+73JMnT7qcv2nTJoWFhdlrxgAAAADAmwLe7HDUqFEaPHiw2rZtq/bt22vy5MnKzs7WkCFDJEmDBg1SnTp1NGHCBEnS8OHD1a1bNz3//PPq1auXZs+erXXr1mn69OmSpOzsbD399NO6+uqrVatWLR0+fFhTp07Vvn37dN1110mydtqxZs0aXXzxxapcubLS0tI0cuRI3XjjjapSpUpgdgQAAACAkBbw4Kt///46dOiQnnjiCaWnp6tVq1ZavHixvVONPXv2KCzsbAVdp06dNGvWLD322GN65JFH1KhRIy1YsEDNmzeXJIWHh2v79u16++23dfjwYVWrVk3t2rXTqlWrdP7550uyNiGcPXu2xo0bp5MnT6pBgwYaOXKkwztdAAAAAOBNAR/nq7RinC8AAICyjXG+YFMqxvkCAAAAgLKC4AsAAAAA/IDgCwAAAAD8gOALAAAAAPyA4AsAAAAA/IDgCwAAAAD8gOALAAAAAPyA4AsAAAAA/IDgCwAAAAD8gOALAAAAAPyA4AsAAAAA/IDgCwAAAAD8gOALAAAAAPyA4AsAAAAA/IDgCwAAAAD8gOALAAAAAPyA4AsAAAAA/IDgCwAAAAD8gOALAAAAAPyA4AsAAAAA/IDgCwAAAAD8gOALAAAAAPyA4AsAAAAA/IDgCwAAAAD8gOALAAAAAPyA4AsAAAAA/IDgCwAAAAD8gOALAAAAAPyA4AsAAAAA/IDgCwAAAAD8gOALAAAAAPyA4AsAAAAA/IDgCwAAAAD8gOALAAAAAPyA4AsAAAAA/IDgCwAAAAD8gOALAAAAAPyA4AsAAAAA/IDgCwAAAAD8gOALAAAAAPyA4AsAAAAA/IDgCwAAAAD8gOALAAAAAPyA4AsAAAAA/IDgCwAAAAD8ICiCr6lTpyopKUlRUVFKTk7W2rVrC00/b948NWnSRFFRUWrRooUWLVrkMH/cuHFq0qSJoqOjVaVKFaWkpGjNmjUOaY4cOaKBAwcqJiZGcXFxGjp0qI4fP+71bQMAAAAAKQiCrzlz5mjUqFEaO3asNmzYoJYtWyo1NVUHDx50mn716tUaMGCAhg4dqo0bN6pPnz7q06ePtmzZYk/TuHFjTZkyRZs3b9a3336rpKQk9ezZU4cOHbKnGThwoLZu3aolS5Zo4cKF+uabb3T77bf7fHsBAAAAlE0WY4wJZAaSk5PVrl07TZkyRZKUm5urxMRE3XfffRo9enSB9P3791d2drYWLlxon9ahQwe1atVK06ZNc7qOrKwsxcbGaunSperRo4e2bdumZs2a6YcfflDbtm0lSYsXL9YVV1yhP//8U7Vr1y4y37ZlZmZmKiYmpjibDgAAgFIsO1uqVMn6/+PHpejowOYHgeNubBDQmq9Tp05p/fr1SklJsU8LCwtTSkqK0tLSnH4nLS3NIb0kpaamukx/6tQpTZ8+XbGxsWrZsqV9GXFxcfbAS5JSUlIUFhZWoHmizcmTJ5WVleXwAQAAAAB3BTT4Onz4sHJychQfH+8wPT4+Xunp6U6/k56e7lb6hQsXqlKlSoqKitKLL76oJUuWqHr16vZl1KxZ0yF9uXLlVLVqVZfrnTBhgmJjY+2fxMREj7YVAAAAQNkW8He+fOXiiy/Wpk2btHr1al122WW6/vrrXb5H5o4xY8YoMzPT/tm7d68XcwsAAAAg1AU0+KpevbrCw8OVkZHhMD0jI0MJCQlOv5OQkOBW+ujoaJ177rnq0KGD3nzzTZUrV05vvvmmfRn5A7EzZ87oyJEjLtcbGRmpmJgYhw8AAAAAuCugwVdERITatGmjZcuW2afl5uZq2bJl6tixo9PvdOzY0SG9JC1ZssRl+rzLPXnypH0ZR48e1fr16+3zly9frtzcXCUnJxd3cwAAAADApXKBzsCoUaM0ePBgtW3bVu3bt9fkyZOVnZ2tIUOGSJIGDRqkOnXqaMKECZKk4cOHq1u3bnr++efVq1cvzZ49W+vWrdP06dMlSdnZ2Xr66ad19dVXq1atWjp8+LCmTp2qffv26brrrpMkNW3aVJdddpluu+02TZs2TadPn9a9996rG264wa2eDgEAAADAUwEPvvr3769Dhw7piSeeUHp6ulq1aqXFixfbO9XYs2ePwsLOVtB16tRJs2bN0mOPPaZHHnlEjRo10oIFC9S8eXNJUnh4uLZv3663335bhw8fVrVq1dSuXTutWrVK559/vn0577//vu6991716NFDYWFh6tevn15++WX/bjwAAACAMiPg43yVVozzBQAAULYxzhdsSsU4XwAAAABQVhB8AQAAAIAfEHwBAAAAgB8QfAEAAACAHxB8AQAAAIAfEHwBAAAAgB8QfAEAAACAHxB8AQAAAIAfEHwBAAAAgB8QfAEAAACAHxB8AQAAAIAfEHwBAAAAgB8QfAEAAACAHxB8AQAAAIAfEHwBAAAAgB8QfAEAAACAHxB8AQAAAIAfEHwBAAAAgB8QfAEAAACAHxB8AQAAAIAfEHwBAAAAgB8QfAEAAACAHxB8AQAAAIAfEHwBAAAAgB8QfAEAAACAHxB8AQAAAIAfEHwBAAAAgB8QfAEAAACAHxB8AQAAAIAfEHwBAAAAgB8QfAEAAACAHxB8AQAAAIAfEHwBAAAAgB8QfAEAAACAHxB8AQAAAIAfEHwBAAAAgB8QfAEAAACAHxB8AQAAAIAfEHwBAAAAgB8QfAEAAACAHxB8AQAAAIAfEHwBAAAAgB8QfAEAAACAHxB8AQAAAIAfBEXwNXXqVCUlJSkqKkrJyclau3ZtoennzZunJk2aKCoqSi1atNCiRYvs806fPq2HH35YLVq0UHR0tGrXrq1BgwZp//79DstISkqSxWJx+EycONEn2wcAAAAAAQ++5syZo1GjRmns2LHasGGDWrZsqdTUVB08eNBp+tWrV2vAgAEaOnSoNm7cqD59+qhPnz7asmWLJOnEiRPasGGDHn/8cW3YsEHz58/Xjh07dPXVVxdY1pNPPqkDBw7YP/fdd59PtxUAAABA2WUxxphAZiA5OVnt2rXTlClTJEm5ublKTEzUfffdp9GjRxdI379/f2VnZ2vhwoX2aR06dFCrVq00bdo0p+v44Ycf1L59e/3xxx+qV6+eJGvN14gRIzRixIhi5TsrK0uxsbHKzMxUTExMsZYBAACA0is7W6pUyfr/48el6OjA5geB425sENCar1OnTmn9+vVKSUmxTwsLC1NKSorS0tKcfictLc0hvSSlpqa6TC9JmZmZslgsiouLc5g+ceJEVatWTa1bt9Zzzz2nM2fOuFzGyZMnlZWV5fABAAAAAHeVC+TKDx8+rJycHMXHxztMj4+P1/bt251+Jz093Wn69PR0p+n//fdfPfzwwxowYIBDFDps2DBdeOGFqlq1qlavXq0xY8bowIEDeuGFF5wuZ8KECRo/frwnmwcAAAAAdgENvnzt9OnTuv7662WM0WuvveYwb9SoUfb/X3DBBYqIiNAdd9yhCRMmKDIyssCyxowZ4/CdrKwsJSYm+i7zAAAAAEJKQIOv6tWrKzw8XBkZGQ7TMzIylJCQ4PQ7CQkJbqW3BV5//PGHli9fXuR7WcnJyTpz5ox2796t8847r8D8yMhIp0EZAAAAALgjoO98RUREqE2bNlq2bJl9Wm5urpYtW6aOHTs6/U7Hjh0d0kvSkiVLHNLbAq+dO3dq6dKlqlatWpF52bRpk8LCwlSzZs1ibg0AAAAAuBbwZoejRo3S4MGD1bZtW7Vv316TJ09Wdna2hgwZIkkaNGiQ6tSpowkTJkiShg8frm7duun5559Xr169NHv2bK1bt07Tp0+XZA28rr32Wm3YsEELFy5UTk6O/X2wqlWrKiIiQmlpaVqzZo0uvvhiVa5cWWlpaRo5cqRuvPFGValSJTA7AgAAAEBIC3jw1b9/fx06dEhPPPGE0tPT1apVKy1evNjeqcaePXsUFna2gq5Tp06aNWuWHnvsMT3yyCNq1KiRFixYoObNm0uS9u3bp08//VSS1KpVK4d1rVixQt27d1dkZKRmz56tcePG6eTJk2rQoIFGjhzp8E4XAAAAAHhTwMf5Kq0Y5wsAAKBsY5wv2JSKcb4AAAAAoKwg+AIAAAAAPyD4AgAAAAA/IPgCAAAAAD8g+AIAAAAAPyD4AgAAAAA/IPgCAAAAAD8odvD166+/6ssvv9Q///wjSWK4MAAAAABwzePg66+//lJKSooaN26sK664QgcOHJAkDR06VPfff7/XMwgAAAAAocDj4GvkyJEqV66c9uzZo4oVK9qn9+/fX4sXL/Zq5gAAAAAgVJTz9AtfffWVvvzyS9WtW9dheqNGjfTHH394LWMAAAAAEEo8rvnKzs52qPGyOXLkiCIjI72SKQAAAAAINR4HX127dtU777xj/9tisSg3N1eTJk3SxRdf7NXMAQAAAECo8LjZ4aRJk9SjRw+tW7dOp06d0kMPPaStW7fqyJEj+u6773yRRwAAAAAo9Tyu+WrevLl++eUXdenSRb1791Z2drb69u2rjRs3qmHDhr7IIwAAAACUeh7XfElSbGysHn30UW/nBQAAAABClsc1XzNmzNC8efMKTJ83b57efvttr2QKAAAAAEKNx8HXhAkTVL169QLTa9asqWeeecYrmQIAAACAUONx8LVnzx41aNCgwPT69etrz549XskUAAAAAIQaj4OvmjVr6qeffiow/ccff1S1atW8kikAAAAACDUeB18DBgzQsGHDtGLFCuXk5CgnJ0fLly/X8OHDdcMNN/gijwAAAABQ6nnc2+FTTz2l3bt3q0ePHipXzvr13NxcDRo0iHe+AAAAAMAFizHGFOeLv/zyi3788UdVqFBBLVq0UP369b2dt6CWlZWl2NhYZWZmKiYmJtDZAQAAgJ9lZ0uVKln/f/y4FB0d2PwgcNyNDYo1zpckNW7cWI0bNy7u1wEAAACgTPE4+MrJydHMmTO1bNkyHTx4ULm5uQ7zly9f7rXMAQAAAECo8Dj4Gj58uGbOnKlevXqpefPmslgsvsgXAAAAAIQUj4Ov2bNna+7cubriiit8kR8AAAAACEkedzUfERGhc8891xd5AQAAAICQ5XHwdf/99+ull15SMTtJBAAAAIAyyeNmh99++61WrFihL774Queff77Kly/vMH/+/PleyxwAAAAAhAqPg6+4uDhdc801vsgLAAAAAIQsj4OvGTNm+CIfAAAAABDSPH7nCwAAAADgOY9rviTpww8/1Ny5c7Vnzx6dOnXKYd6GDRu8kjEAAAAACCUe13y9/PLLGjJkiOLj47Vx40a1b99e1apV0++//67LL7/cF3kEAAAAgFLP4+Dr1Vdf1fTp0/XKK68oIiJCDz30kJYsWaJhw4YpMzPTF3kEAAAAgFLP4+Brz5496tSpkySpQoUKOnbsmCTppptu0gcffODd3AEAAABAiPA4+EpISNCRI0ckSfXq1dP3338vSdq1axcDLwMAAACACx4HX5dccok+/fRTSdKQIUM0cuRIXXrpperfvz/jfwEAAACACxbjYXVVbm6ucnNzVa6ctaPE2bNna/Xq1WrUqJHuuOMORURE+CSjwSYrK0uxsbHKzMxUTExMoLMDAAAAP8vOlipVsv7/+HEpOjqw+UHguBsbeBx87dmzR4mJibJYLA7TjTHau3ev6tWrV7wclzIEXwAAAGUbwRds3I0NPG522KBBAx06dKjA9CNHjqhBgwaeLg4AAAAAygSPgy9jTIFaL0k6fvy4oqKivJIpAAAAAAg15dxNOGrUKEmSxWLR448/rooVK9rn5eTkaM2aNWrVqpXXMwgAAAAAocDt4Gvjxo2SrDVfmzdvduhYIyIiQi1bttQDDzzg/RwCAAAAQAhwu9nhihUrtGLFCg0ePFhffPGF/e8VK1boyy+/1Ouvv65GjRoVKxNTp05VUlKSoqKilJycrLVr1xaaft68eWrSpImioqLUokULLVq0yD7v9OnTevjhh9WiRQtFR0erdu3aGjRokPbv3++wjCNHjmjgwIGKiYlRXFychg4dquPHjxcr/wAAAABQFI/f+ZoxY4ZDDx5ZWVlasGCBtm/fXqwMzJkzR6NGjdLYsWO1YcMGtWzZUqmpqTp48KDT9KtXr9aAAQM0dOhQbdy4UX369FGfPn20ZcsWSdKJEye0YcMGPf7449qwYYPmz5+vHTt26Oqrr3ZYzsCBA7V161YtWbJECxcu1DfffKPbb7+9WNsAAAAAAEXxuKv566+/XhdddJHuvfde/fPPP2rZsqV2794tY4xmz56tfv36eZSB5ORktWvXTlOmTJFkHUcsMTFR9913n0aPHl0gff/+/ZWdna2FCxfap3Xo0EGtWrXStGnTnK7jhx9+UPv27fXHH3+oXr162rZtm5o1a6YffvhBbdu2lSQtXrxYV1xxhf7880/Vrl27yHzT1TwAAEDZRlfzsPFZV/PffPONunbtKkn6+OOPZYzR0aNH9fLLL+u///2vR8s6deqU1q9fr5SUlLMZCgtTSkqK0tLSnH4nLS3NIb0kpaamukwvSZmZmbJYLIqLi7MvIy4uzh54SVJKSorCwsK0Zs0ap8s4efKksrKyHD4AAAAA4C6Pg6/MzExVrVpVkrW2qF+/fqpYsaJ69eqlnTt3erSsw4cPKycnR/Hx8Q7T4+PjlZ6e7vQ76enpHqX/999/9fDDD2vAgAH2KDQ9PV01a9Z0SFeuXDlVrVrV5XImTJig2NhY+ycxMdGtbQQAAAAAqRjBV2JiotLS0pSdna3FixerZ8+ekqS///476Mb5On36tK6//noZY/Taa6+VaFljxoxRZmam/bN3714v5RIAAABAWeB2V/M2I0aM0MCBA1WpUiXVr19f3bt3l2RtjtiiRQuPllW9enWFh4crIyPDYXpGRoYSEhKcfichIcGt9LbA648//tDy5csd2l4mJCQU6NDjzJkzOnLkiMv1RkZGKjIy0u1tAwAAAIC8PK75uvvuu5WWlqa33npL3377rcLCrIs455xzPH7nKyIiQm3atNGyZcvs03Jzc7Vs2TJ17NjR6Xc6duzokF6SlixZ4pDeFnjt3LlTS5cuVbVq1Qos4+jRo1q/fr192vLly5Wbm6vk5GSPtgEAAAAA3OFxb4feNmfOHA0ePFivv/662rdvr8mTJ2vu3Lnavn274uPjNWjQINWpU0cTJkyQZO1qvlu3bpo4caJ69eql2bNn65lnntGGDRvUvHlznT59Wtdee602bNighQsXOrwfVrVqVfvg0JdffrkyMjI0bdo0nT59WkOGDFHbtm01a9Yst/JNb4cAAABlG70dwsbd2MCtZoejRo3SU089pejoaI0aNarQtC+88IJHGe3fv78OHTqkJ554Qunp6WrVqpUWL15sD5r27Nljr12TpE6dOmnWrFl67LHH9Mgjj6hRo0ZasGCBmjdvLknat2+fPv30U0lSq1atHNa1YsUKezPJ999/X/fee6969OihsLAw9evXTy+//LJHeQcAAAAAd7lV83XxxRfr448/VlxcnC6++GLXC7NYtHz5cq9mMFhR8wUAAFC2UfMFG6/WfK1YscLp/wEAAAAA7vG4ww1JMsbo8OHD+uuvv7ydHwAAAAAISR4FX+np6Ro0aJCqVKmi+Ph41axZU1WqVNEtt9xSoPt3AAAAAMBZbo/zlZWVpU6dOun48eMaMmSImjRpImOMfv75Z33wwQf69ttvtWHDBlWyNXwFAAAAANi5HXy99NJLCg8P19atW1WjRg2HeY899pg6d+6sl19+WY888ojXMwkAAAAApZ3bzQ4///xzPfLIIwUCL0mqWbOmxowZo88++8yrmQMAAACAUOF28PXLL7+oU6dOLud36tRJO3bs8EqmAAAAACDUuB18ZWVlKS4uzuX8uLg4ZWVleSNPAAAAABBy3A6+jDEKC3Od3GKxyI3xmgEAAACgTHK7ww1jjBo3biyLxeJyPgAAAADAObeDrxkzZvgyHwAAAAAQ0twOvgYPHuzLfAAAAABASHP7nS8AAAAAQPERfAEAAACAHxB8AQAAAIAfEHwBAAAAgB+UOPjKycnRpk2b9Pfff3sjPwAAAAAQkjwOvkaMGKE333xTkjXw6tatmy688EIlJiZq5cqV3s4fAAAAAIQEj4OvDz/8UC1btpQkffbZZ9q1a5e2b9+ukSNH6tFHH/V6BgEAAAAgFHgcfB0+fFgJCQmSpEWLFum6665T48aNdcstt2jz5s1ezyAAAAAAhAKPg6/4+Hj9/PPPysnJ0eLFi3XppZdKkk6cOKHw8HCvZxAAAAAAQkE5T78wZMgQXX/99apVq5YsFotSUlIkSWvWrFGTJk28nkEAAAAACAUeB1/jxo1T8+bNtXfvXl133XWKjIyUJIWHh2v06NFezyAAAAAAhAKLMcYEOhOlUVZWlmJjY5WZmamYmJhAZwcAAAB+lp0tVapk/f/x41J0dGDzg8BxNzZwu+brnXfecfh70KBBxc8dAAAAAJQxbgdfM2bMsP/fYrEQfAEAAACAB9wOvlasWOHLfAAAAABASPO4q/ktW7a4nLdgwYKS5AUAAAAAQpbHwVdqaqp27dpVYPpHH32kgQMHeiVTAAAAABBqPA6+br31VqWkpCg9Pd0+bc6cORo0aJBmzpzpzbwBAAAAQMjweJyv8ePH68iRI0pJSdE333yjxYsX69Zbb9W7776rfv36+SKPAAAAAFDqeRx8SdIrr7yigQMHqkOHDtq3b58++OAD9e7d29t5AwAAAICQ4Vbw9emnnxaY1rdvX61atUoDBgyQxWKxp7n66qu9m0MAAAAACAEWY4wpKlFYmHuvhlksFuXk5JQ4U6WBu6NYAwAAIDRlZ0uVKln/f/y4FB0d2PwgcNyNDdyq+crNzfVaxgAAAACgLPK4t0MAAAAAgOeKFXx9/fXXuuqqq3Tuuefq3HPP1dVXX61Vq1Z5O28AAAAAEDI8Dr7ee+89paSkqGLFiho2bJiGDRumChUqqEePHpo1a5Yv8ggAAAAApZ5bHW7k1bRpU91+++0aOXKkw/QXXnhBb7zxhrZt2+bVDAYrOtwAAAAo2+hwAzbuxgYe13z9/vvvuuqqqwpMv/rqq7Vr1y5PFwcAAAAAZYLHwVdiYqKWLVtWYPrSpUuVmJjolUwBAAAAQKhxq6v5vO6//34NGzZMmzZtUqdOnSRJ3333nWbOnKmXXnrJ6xkEAAAAgFDgcfB11113KSEhQc8//7zmzp0ryfoe2Jw5c9S7d2+vZxAAAAAAQoHHHW7Aig43AAAAyjY63ICNzzrcsFm/fr3ee+89vffee9q4cWNxF6OpU6cqKSlJUVFRSk5O1tq1awtNP2/ePDVp0kRRUVFq0aKFFi1a5DB//vz56tmzp6pVqyaLxaJNmzYVWEb37t1lsVgcPnfeeWextwEAAAAAiuJx8HXw4EFdcsklateunX2crzZt2qhHjx46dOiQR8uaM2eORo0apbFjx2rDhg1q2bKlUlNTdfDgQafpV69erQEDBmjo0KHauHGj+vTpoz59+mjLli32NNnZ2erSpYueffbZQtd922236cCBA/bPpEmTPMo7AAAAAHjC42aH/fv31++//6533nlHTZs2lST9/PPPGjx4sM4991x98MEHbi8rOTlZ7dq105QpUyRJubm5SkxM1H333afRo0c7XXd2drYWLlxon9ahQwe1atVK06ZNc0i7e/duNWjQQBs3blSrVq0c5nXv3l2tWrXS5MmT3c5rfjQ7BAAAKNtodggbnzU7XLx4sV599VV74CVJzZo109SpU/XFF1+4vZxTp05p/fr1SklJOZuZsDClpKQoLS3N6XfS0tIc0ktSamqqy/SFef/991W9enU1b95cY8aM0YkTJwpNf/LkSWVlZTl8AAAAAMBdHvd2mJubq/LlyxeYXr58eeXm5rq9nMOHDysnJ0fx8fEO0+Pj47V9+3an30lPT3eaPj093e31StJ//vMf1a9fX7Vr19ZPP/2khx9+WDt27ND8+fNdfmfChAkaP368R+sBAAAAABuPg69LLrlEw4cP1wcffKDatWtLkvbt26eRI0eqR48eXs+gL9x+++32/7do0UK1atVSjx499Ntvv6lhw4ZOvzNmzBiNGjXK/ndWVhaDSgMAAABwm8fNDqdMmaKsrCwlJSWpYcOGatiwoRo0aKCsrCy98sorbi+nevXqCg8PV0ZGhsP0jIwMJSQkOP1OQkKCR+ndlZycLEn69ddfXaaJjIxUTEyMwwcAAAAA3OVx8JWYmKgNGzbo888/14gRIzRixAgtWrRIGzZsUN26dd1eTkREhNq0aaNly5bZp+Xm5mrZsmXq2LGj0+907NjRIb0kLVmyxGV6d9m6o69Vq1aJlgMAAAAArnjc7FCSLBaLLr30Ul166aUlWvmoUaM0ePBgtW3bVu3bt9fkyZOVnZ2tIUOGSJIGDRqkOnXqaMKECZKk4cOHq1u3bnr++efVq1cvzZ49W+vWrdP06dPtyzxy5Ij27Nmj/fv3S5J27NghyVprlpCQoN9++02zZs3SFVdcoWrVqumnn37SyJEjddFFF+mCCy4o0fYAAAAAgCtu13wtX75czZo1c9rLX2Zmps4//3ytWrXKo5X3799f//vf//TEE0+oVatW2rRpkxYvXmzvVGPPnj06cOCAPX2nTp00a9YsTZ8+XS1bttSHH36oBQsWqHnz5vY0n376qVq3bq1evXpJkm644Qa1bt3a3hV9RESEli5dqp49e6pJkya6//771a9fP3322Wce5R0AAAAAPOH2OF9XX321Lr74Yo0cOdLp/JdfflkrVqzQxx9/7NUMBivG+QIAACjbGOcLNl4f5+vHH3/UZZdd5nJ+z549tX79es9yCQAAAABlhNvBV0ZGhtPxvWzKlSunQ4cOeSVTAAAAABBq3A6+6tSpoy1btric/9NPP9FbIAAAAAC44HbwdcUVV+jxxx/Xv//+W2DeP//8o7Fjx+rKK6/0auYAAAAAIFS43eFGRkaGLrzwQoWHh+vee+/VeeedJ0navn27pk6dqpycHG3YsMHeU2Goo8MNAACAso0ON2Djbmzg9jhf8fHxWr16te666y6NGTNGtpjNYrEoNTVVU6dOLTOBFwAAAAB4yqNBluvXr69Fixbp77//1q+//ipjjBo1aqQqVar4Kn8AAAAAEBI8Cr5sqlSponbt2nk7LwAAAAAQstzucAMAAAAAUHwEXwAAAADgBwRfAAAAAOAHBF8AAAAA4AcEXwAAAADgBwRfAAAAAOAHBF8AAAAA4AfFGucLCCU5OdKqVdKBA1KtWlLXrlJ4eKBzBQAAgFBD8IUybf58afhw6c8/z06rW1d66SWpb9/A5QsAAAChh2aHKLPmz5euvdYx8JKkffus0+fPD0y+AAAAEJoIvlAm5eRYa7yMKTjPNm3ECGs6AAAAwBsIvlAmrVpVsMYrL2OkvXut6QAAAABvIPhCmXTggHfTAQAAAEUh+EKZVKuWd9MBAAAARSH4QpnUtau1V0OLxfl8i0VKTLSmAwAAALyB4AtlUni4tTt5qWAAZvt78mTG+wIAAID3EHyhzOrbV/rwQ6l2bcfpdetapzPOFwAAALyJQZZRpvXtK6WkSLGx1r8XLZJ69qTGCwAAAN5HzRfKvLyB1kUXEXgBAADANwi+AAAAAMAPCL4AAAAAwA8IvgAAAADADwi+AAAAAMAPCL4AAAAAwA8IvgAAAADADwi+AAAAAMAPCL4AAAAAwA8IvgAAAADADwi+AAAAAMAPCL4AAAAAwA8IvgAAAADADwi+AAAAAMAPCL4AAAAAwA8IvgAAAADAD8oFOgMAAPfl5EirVkkHDki1akldu0rh4YHOFQAAcAfBFwCUEvPnS8OHS3/+eXZa3brSSy9JffsGLl8AAMA9NDsEgFJg/nzp2msdAy9J2rfPOn3+/MDkCwAAuC/gwdfUqVOVlJSkqKgoJScna+3atYWmnzdvnpo0aaKoqCi1aNFCixYtcpg/f/589ezZU9WqVZPFYtGmTZsKLOPff//VPffco2rVqqlSpUrq16+fMjIyvLlZAOA1OTnWGi9jCs6zTRsxwpoOAAAEr4AGX3PmzNGoUaM0duxYbdiwQS1btlRqaqoOHjzoNP3q1as1YMAADR06VBs3blSfPn3Up08fbdmyxZ4mOztbXbp00bPPPutyvSNHjtRnn32mefPm6euvv9b+/fvVlzY7AILUqlUFa7zyMkbau9eaDgAABC+LMc7KUv0jOTlZ7dq105QpUyRJubm5SkxM1H333afRo0cXSN+/f39lZ2dr4cKF9mkdOnRQq1atNG3aNIe0u3fvVoMGDbRx40a1atXKPj0zM1M1atTQrFmzdO2110qStm/frqZNmyotLU0dOnRwK+9ZWVmKjY1VZmamYmJiPN10BJHsbKlSJev/jx+XoqMDmx8gvw8+kP7zn6LTzZolDRjg+/wAAKx4hoCNu7FBwGq+Tp06pfXr1yslJeVsZsLClJKSorS0NKffSUtLc0gvSampqS7TO7N+/XqdPn3aYTlNmjRRvXr1Cl3OyZMnlZWV5fABAH+oVcu76QAAQGAELPg6fPiwcnJyFB8f7zA9Pj5e6enpTr+Tnp7uUXpXy4iIiFBcXJxHy5kwYYJiY2Ptn8TERLfXCQAl0bWrtVdDi8X5fItFSky0pgMAAMEr4B1ulBZjxoxRZmam/bN3795AZwlAGREebu1OXioYgNn+njyZ8b6AQMrJkVautDYTXrmSDnAAOBew4Kt69eoKDw8v0MtgRkaGEhISnH4nISHBo/SulnHq1CkdPXrUo+VERkYqJibG4QMA/tK3r/Thh1Lt2o7T69a1TqfPICBw5s+XkpKkiy+2vp958cXWvxkCAkB+AQu+IiIi1KZNGy1btsw+LTc3V8uWLVPHjh2dfqdjx44O6SVpyZIlLtM706ZNG5UvX95hOTt27NCePXs8Wg4A+FvfvtLPP5/9e9EiadcuAi8gkBiDD4AnygVy5aNGjdLgwYPVtm1btW/fXpMnT1Z2draGDBkiSRo0aJDq1KmjCRMmSJKGDx+ubt266fnnn1evXr00e/ZsrVu3TtOnT7cv88iRI9qzZ4/2798vyRpYSdYar4SEBMXGxmro0KEaNWqUqlatqpiYGN13333q2LGj2z0dAkCg5G1aeNFFNDUEAqmoMfgsFusYfL17c60CsApo8NW/f38dOnRITzzxhNLT09WqVSstXrzY3qnGnj17FBZ2tnKuU6dOmjVrlh577DE98sgjatSokRYsWKDmzZvb03z66af24E2SbrjhBknS2LFjNW7cOEnSiy++qLCwMPXr108nT55UamqqXn31VT9sMQAACBWejMHXvbvfsgUgiAV0nK/SjHG+QgdjdKA04XwFggdj8IF7MmzcjQ0CWvMFACgbcnKspf8HDljHI+valWZYKP0Ygw+Apwi+AAA+NX++9b2YvM2z6ta1dp9PZyEozWxj8O3b5/y9L4vFOp8x+BAIFHoFJ8b5AgD4DD3BwR2ldYwsxuCDN/ji/Gf4g+BF8AUA8ImieoKTrD3BlZYHbfhGaX9IZAw+lIQvzn8KvYIbwRcAwCc86QkOZVOoPCQyBh+KwxfnP4VewY/gCwDgEwcOeDcdQkuoPSQyBh884avzn0Kv4EfwBQDwCXqCQ2F4SERZ5qvzn0Kv4EfwBQDwCVtPcPk7IrCxWKTERHqCK6t4SERZ5qvzn0Kv4EfwBQDwCXqCQ2F4SERZ5qvzn0Kv4EfwBaBMKa1dWpdW9AQHV3hIRFnmq/OfQq/gR/AFoMwo7V1al1b0BAdneEhEWebL859Cr+BG8AWgTAiVLq1LK3qCgzM8JKIs8+X5T6FX8CL4AhDyQq1LayCU8JCIssyX5z+FXsGJ4AtAyKNLayC48ZCIsozzv2wh+AIQ8ujSGgAABAOCLwAhjy6tAQBAMCD4AhDy6NIaAAAEA4IvACGPLq0BAEAwIPgqYxhgFv4SbOcaXVoDAIBAKxfoDMB/5s+3dredt9e3unWtNQI8eMKbgvVc69tXSkmRYmOtfy9aJPXsSY0XAADwD2q+yggGmIW/BPu5Rpe+AAAgUAi+ygAGmIW/cK4BAAC4RvBVBjDALPyFcw0AAMA13vkqA9wdOHbfPmvHCAcOWMc76tqVJlnwDIMZAwAAuEbwVQa4O3DsyJHSoUNn/w6GDhJQujCYMRB6cnKstdUUzAFAydHssAwoaoBZm7yBlxQ8HSSg9GAwYyC0zJ8vJSVJF18s/ec/1n+Tkvhd8KZgG5YDgG8RfJUBhQ0wWxg6SICnGMwYCB3B3nNpKCC4Bcoegq8ywtUAszVqFP49OkiApxjMGCj96LnU9whugbKJ4KsM6dtX+vnns38vWiS9+KJ736WDBHjC2bm2axeBF1Ba0HOpbxHcAmUXwVcZk3+A2Tp13PseHSTAUwxmDJRe9FzqWwS3QNlFb4dlnK2DhH37nJfAWSzW+XSQ4F/0LlZy7EOg+Oi51LcIboGyi5qvMo4OEoKPsxewa9aUnnySJiju4iV2oGToudS3CG6BsovgC3SQEERcvYB95Ig0dqwUH08AUZSiXmL/5JPA5AsoTSiY8y2CW6DsIviCJDpICAaFvYBt89df9IJVGHdeYn/4Yf/mCSitKJjzHYJboOwi+IIdHSQEVlEvYNsYQy9YrrjzErs7+xiAFQVzvkNwC5RNBF9AkPDkxWp6wXKOl9MB76NgzncIboGyh+ALCBKevlhNoFEQL6cDKG0IboGyheALCBK2F7DdRaBRkDsvsXuyjwEAALyJ4AsIEnlfwC5K1arWd75478uROy+xP/usf/MEAABgQ/AFBJG+faWPPrIGV4U5ckRKSWHsKmeKeom9d+/A5AsAgECZO1dauZJC22BA8AUEmb59rS9cu8M2dhUBmCNeYgcAlHV5x7W85Rbp4osptA0GBF9AEHL3hWvb2FXudD2fk2Mt9frgg7JR+sVL7ACAsmr+fOnGGwtOp9A28Ai+gFLOmKK7np8/31radfHF0n/+Q+kXAJRVZa0grizKyZGGDz9bQJuXJ4W28A2CLyBEuOp6fv58aylX/sGFKf0CgLIl2AviCAy9Y9Wqgr/5eblTaAvfCYrga+rUqUpKSlJUVJSSk5O1du3aQtPPmzdPTZo0UVRUlFq0aKFFixY5zDfG6IknnlCtWrVUoUIFpaSkaOfOnQ5pkpKSZLFYHD4TJ070+rYB/uKs63lKvwAAUvAXxAV7YFiauDsOKOOFBkbAg685c+Zo1KhRGjt2rDZs2KCWLVsqNTVVBw8edJp+9erVGjBggIYOHaqNGzeqT58+6tOnj7Zs2WJPM2nSJL388suaNm2a1qxZo+joaKWmpurff/91WNaTTz6pAwcO2D/33XefT7c1FFAqFTiFjV2VmGgd4yo/Sr8AAMFeEBfsgWFp4+44oIwXGhgBD75eeOEF3XbbbRoyZIiaNWumadOmqWLFinrrrbecpn/ppZd02WWX6cEHH1TTpk311FNP6cILL9SUKVMkWWu9Jk+erMcee0y9e/fWBRdcoHfeeUf79+/XggULHJZVuXJlJSQk2D/R0dG+3txSjVKpwHM1dtXkyc47lKD0C3BEARLKomAuiAv2wLA06trVOrxKcQpt4XsBDb5OnTql9evXKyUlxT4tLCxMKSkpSktLc/qdtLQ0h/SSlJqaak+/a9cupaenO6SJjY1VcnJygWVOnDhR1apVU+vWrfXcc8/pzJkzLvN68uRJZWVlOXzKEkqlAu+991yPXeWqC3VKv4CzKEBCWRXMBXHBHBiWVuHh0ksvOZ9XVKFtSVHAVbSABl+HDx9WTk6O4uPjHabHx8crPT3d6XfS09MLTW/7t6hlDhs2TLNnz9aKFSt0xx136JlnntFDDz3kMq8TJkxQbGys/ZOYmOj+hpZylEoFh969PR+7itIvwIoCJJRlwVwQF8yBYWnWt6+10Da/ogptS4ICLvcEvNlhoIwaNUrdu3fXBRdcoDvvvFPPP/+8XnnlFZ08edJp+jFjxigzM9P+2bt3r59zHDiUSgUPT8euylv65WmTRSBUUIAUGihRL75gLograWAYTOfFN98ERz5sevd2/NudQtviooDLfQENvqpXr67w8HBlZGQ4TM/IyFBCQoLT7yQkJBSa3vavJ8uUpOTkZJ05c0a7d+92Oj8yMlIxMTEOn7KCUqnSrW9faymXp00WgVBBAVLpR4l6yQRzQVxJAsNgOy+uuCI48uGKO4W2xUEBl2cCGnxFRESoTZs2WrZsmX1abm6uli1bpo4dOzr9TseOHR3SS9KSJUvs6Rs0aKCEhASHNFlZWVqzZo3LZUrSpk2bFBYWppo1a5Zkk0KSt5orBFPplDeVhu3q29fzJotAqKAAqXSjRN07grUgrriBYbCcF5984nx6WTo/KeDykAmw2bNnm8jISDNz5kzz888/m9tvv93ExcWZ9PR0Y4wxN910kxk9erQ9/XfffWfKlStn/ve//5lt27aZsWPHmvLly5vNmzfb00ycONHExcWZTz75xPz000+md+/epkGDBuaff/4xxhizevVq8+KLL5pNmzaZ3377zbz33numRo0aZtCgQW7nOzMz00gymZmZXtoT/nH8uDHWy8D6f3fmnTljTN26xlgsZ+fn/VgsxiQmWtO58tFH1mXk/V7dutbpgVbYPimKr7Yrb57y5q0keS3Jd4vD3+tzd/2BzldJ+TL/Z84Ys2KFMbNmWf8t7Jr2VCD3+4oVzu9d+T8rVvg3X6WFP45dUb8/ro6ZO78//lLc/eTvayMz8+z6Fi0Kjn1njPV3s04dx+ObmOj89zRYzoszZwrmuTj58NU5kP9Zwlfn16xZ7t1jZ83yzfqDhbuxQcCDL2OMeeWVV0y9evVMRESEad++vfn+++/t87p162YGDx7skH7u3LmmcePGJiIiwpx//vnm888/d5ifm5trHn/8cRMfH28iIyNNjx49zI4dO+zz169fb5KTk01sbKyJiooyTZs2Nc8884z5999/3c5zWQq+jLHe/CyWggGYbVphwYbtu85uSkV91x+Ke9Pz5XYRfPlu/YHOV0n5Kv++LiAJ5H73RgFSYcv2VcAaLLx17ArbV3nXkZl5Nt2LL5aewLm0BF/BfA90NzAMlgIVb+WjtAdfwXI8Aq1UBV+lUVkLvozxrFTKJlhKpwpTnJuer7eL4Mt36w90vkrKF/n3RwFJoPd7SQqQCltmsNboe5M3jl1R+yrvOgqrSXD1CYYSdYKvknM3b8FS0+KtfPiqgCNvMOvL4+3LAq7SxN3YoMz2dgjPFee9oVBtBxyq24Wyp6y8KO3t912C5X2T0sDTfbVvn+frYKzCsiVYus4PlnxIzjsfadbM9+uVgrtDl2BE8AWPeNrVeai+6B6q24WyJxAFCYHqpMZbHc+UlYDVG9zdV6dOFW/5jFUYHPx9TXvSQ6Iv89a1q1Snjuv5/jo/XRVw7N/v2/XmFawdugQjgi/4VDCVCnlTqG4Xyp5AFCQ0axa4rqE9LUByhppv97m7r6ZPL/46KFEPrEB09+5uTcsnn/g2b+Hh0qRJzuf5q8bHnQIOf/FmAVew9yJdEgRf8KlgHtixJEJ1u9wR6jfFsiYQBQn5m5WVtqZ61Hy7z9198Pvvni87PFx64AFK1AMpkM1vi6ppkfyTt/wDGefPh6/Pz6IKOPytpAVcwTZ2my8QfMGnQrUdcKhuV1HKwk2xrPFXQUJhQXppa6pHzbf73N0H55zj+bJzc6X//Y/7T6AEQ/NbVzUtvXsHNm/+HEszlAp5ysq7tARf8LlQbQccqtvlSlm5KZY1/ipI+O67wueXpqZ6Zbnm21Pu7qvbb/d82aUtaA81wdL81llNS6DzVtwmzcURKoU8wRDM+wvBF/zCW+2AvSVv07lvvin+coJtu3ylLN0U/SlYmnD6oyAhPd29dKWhFLes1nwXh7v7KiKi4HR3lKagPdQEc/PbYM6btxVVwFFaBDpg9ieCL/iNN15094b8TeeuuKJkywuW7fKlsnRT9Jdga8Lp64KEhAT30pWWUtyyVvNdEp7uK3fPlbxC4SG6tAnm5rfBnDdvc6eAozQoSwEzwRfKFFdN52w++cS/+SktSsNNMVhqkdxR3CacOTmONbXe3kZfFiR07lz4/NLYVK+s1Hx7Q1H7Ku+5/PLLZ/8/caJ7yw+Fh+jSJpib3wZz3nzBVQFHYd3gB5uyFDATfKHMKKzpnM3DDwf3Q3ugBPtNMZCDS3qquE04bduYt6a2WbPS865d3kAulJrqlYWab29xta/mz3e8Xq+77uz/77qrbD1EuyNYCpqCsfntN99Y98uqVdKLLwZX3nzNWQHH1q2By4+nylLATPCFMsOd7lj//JOmc84E800xGAaX9ERxmnAWto2lsbOT/M3KaKpXdtnO7fzDD9gsXBh8D/iBFIzNlYOp+e0VV5zdLyNHWociCJa8+UNpLgwKxmDeVwi+ygBvdS5R2pWGpnPBKlhviu4OLhlMtZmenoeh2NnJ+vVn/09TvbLL3dYIvXtbH5bLetAerD3OBrr5ravXBfbtsw5FkLfpKveb4BZswbyvEHyFOG93LlGaBXvTuWAXjDdFdweXLKqbc3/y9DwMxc5OSnPpbGGCpTlYaeFJa4S+fR2D9vnzy9ZDdLAXwhR2TfvyusjJkR56yPk8234ZM8Z13lBy3j6+gQ7m/aFcoDMA37GVkrkqVfzkE2tAVlbYms7t2+d6n9StGxrtiX2lb18pJUWKjbX+vWiR1LNn4H7M3K1Fcrebc38o6jy0WBzPQ2psS49mzRybz9Wta60xDqWHBm/y9NzOe5/p3LlsPUR7UgjTvbvfslWk+fOtQWPevHvzuli1ynWTVcm6X9wpoEPxODu+3ujkI/+1vmqV9T5Qq5b1t7G0X/vUfIUoOpcoqLCmczbPPlv6L2pfC6ZaC3drkYrTdbWveNqEkxrb0iP/Q2Cgm4MFO85t95XGQhh/NJMMpu0ta/z1vnWzZsHzjqO3EHyFKDqXcM5V0zmb3r19s16aI/mGu4NLFtXNub950oQzmDs7QeHXcjA0B3MlGO5J7ly/tEawKm2Bqr+aSQbL9uYXbNe7t/nzfetQLNQi+ApRpbGUzF/ytyf29QUcbL1ThRJ3B5cMxtpMd9u1B2tnJ7Aq6n3CYHwnL1juSbRGcF9pK4Tx17uqXbsW3szN1ozbl5x1+OGLYUCCocDExtfvW5fWQi13EXyFqNJWSuZv+dsT+0qw9k4VSkrz4JLuNuEsbBttNWXB9MMcKtzZp+6+TxgsBV3Bdk+ynduumgb7qjVCaVPaCmH8VQAcHi5NmuR8nm2/PPtsydZRmPnzpRtvLDjd28OABEuBiY2v37cujYVaniD4ClGlsTlHqD08BnvvVKGktA8u6Y782yhZt7Fv3+D7YQ4F7u5Td98nDIaCrmC9J+XvyXDWLP+uv7QIxh5nncnJkTIy3EvrjevCVYBu2y++fJ3AG9dTTo7jMED50wdbgYnk+/etS1uhlqcIvkJUaWvOEYoPj6HYRXgwC6aOQHwl/zaFhwfnD3Np58k+LarmPJiagwXzPSnvud2hg//XX1qUhm64mzWzDnBcGF9fF/7YL+5eT6+84joAsz375B0GKG+TxWAtMPHF+9Z5C+APHnTvO8FQqFUcBF8hLFCdS3gqVB8eee8OvhasP8ylmaf7NG/QEOzNwbx9Twq11gqlRbAXNBXW9bvkn+vCH/vF3etk5EjnhcmF9RZoe/YJ1gITb79vnb8AfvTowtMHU6FWcRB8hTh/dy7hqVB+eOS9O/jad98F5w9zaVaShx3b+Hc2wdYczJv3pFBsrYDi8+Q3Otiui+Ly5Lc7f2Gyu88+RQWyNoEoxPXW+9auglBXgq1QqzgIvsoAf3UuURzeKNUJ1tLX0tY7FUqfUGgXP3ducF23ntYO5e3p7OjRs/9/9NHCmz0F4r7lrXtSqLZWQPG526vdxInB10yyuNxteicVLEx299nn0CH38hKoQtySvm/tzpi0YfkilVAI3gm+4JSvH4i++cb60LFsmXvpXT0QBXPpa2nrnQqlT2nq7CGvzz8/+/9bbgmu69aT2iFXPZ1J0jPPOO+CWgrcfcsb96RQbq0Q7GwB+9y5gc5JQe4WBNWsGTq/eXmvJ3fkLUx2t5CnRo3gL8R1pxmsq8Imd7qsz809+/9gfMexOAi+YJf3QcHXD0RXXGF96Pjvf91L7+yBqDSUvpaW3qlQOnXuHPw/zM4MHVpwWrBct+7WDnXqVHSJrbMgJND3rZLek2jqGhh5A/Zbbjk73VWA72/uFgQVt/e7YNW3r/Tee55958AB9wt56tQp/YW4hRU2edoqIxjfcSwOgq8Q5kkpmasSXG8+EBTnR8LVw2NpKn0tDb1ToeQC0YystNauBvN16+4+Xb3a8yAkWO5bJbknhUJT19KmsHdibrwx8AUWkvuvNATbqw/e4GnnZbVqedYEuDQX4n7ySeGFTTt3BiZfgUbwFaJclZLlbe5j448Hgpwc6aGHPPtOYQ+PwdoDkCvB3jsVii8nR3rySWtzmkA0fy3NP8z5Bct1684+LU7PgcF03yruPam0NnUtrdx5JybQBRaSe71+5k9nk7fgKu94V6Emb0DlacFZaS3Efeihwp8t33ij6PfmXPXYXZoRfIWgwkrJnDX38ccDwapV7vfaY1PYwyPduJc9wdixyvz5Uny8NHasdOSI4zx/NqMrrT/MrgTDdVvUPi1Oz4GhcN8qrU1dg4Wn97FgCtjdlT9AL6z3u/xN0vKOd1WauRtQOSvkqVbNGnBXrep4fpTGQtzCnvuMsZ7bt91m/dvVPcXd11NKE4KvEONOKVl+/ngg8PS7RT080o172RKMHavMny/16yf99Zfz+f5uRueLH+ZABbzBct0Wtk+L03Ogt+5bgSyIKK1NXYOBq/tYYU3yvfX77M/apfXrz/6/sN7viupiPFjeZysOd4edyF/II0mHD1uvoWD4nfOHhg0LH5O2Vy//5scfCL5CjDulZPn5I5Dx9LudO1u3xdXDBd24lx2B7qDAGVshR1GCsVTapqgH+E8+8V3AGwrXrTs9neUPQrxx3wqGgohQaurqL4Xdx1z1mCl55/fZ37VL7vZ+V1RB8cMPB0cLh+LwZNiJwgoqgqUjIl8aOdL6bzCPSettBF8hpji1U/4IZLp2LbzpgcVizYNNs2aODxf161vfq7E9KEqUvpYFwdJBQX7udI+bV7A1I3OnBP7GG/0b8Bbnug10U9TCejp7772CD1slrTUKpoKIUGvq6kvu3MdcKenvc7DWLrlzD/3zz+AsuPJUYcNOSIXft4yxfoYPL52BaJ06RY+Ddviw9RxduPDstFDsmCUvgq8QU5zaqcJKcL0VyISHS5MmFb6OZ589Oy1/O+F9+6zv1eR9UJQofQ11wfq+g6fBVLA0o5PcL4F39aBojHTnndL77xc/4HnzzYLTPL1ug6EGSHLd05mr6cWtNQrGgojS+A5KIBSnRYpNYQG7javf52CuXQqF9x9t3Nl/hV2b7gxQ/eefrp+hisPdgquSFnC5k2fb+fnww54tuzQj+Aox7pSSOeOqBNebgYyrhxHbOq680v1l2Up6JUpfQ1mw/kB7EkwFUzO6kpTA53XokDVQK27Ak78Nv6fXbTDVABVHcWqNgrUgAkUr6f3JVcAuOa9htQnm2qVAvbc9d673a8mLCp6KujbdHb7h6ac9y5cr7hZceaOAq3dv67lbvXrh6Wydb5QVBF8hxp1SMlfyB0f+CGTyrsOd0h+bvCW9eVH6GlqCtWOVogo5bCyW4Gr+WpISeFe8EfB4ct0GYw1QcXhaa1TSgohAN9Esy7xxf3LWMYNU+BhTwVp4Jbl3D61b1zsFV3mb/N1yi/dryUs69p0/B54ubNytfv3Ovt7x5JPeK+Dq29exZRMIvkJSYaVkzpr7uGJ7IPBlL0l5HzrcvYHZ2EqTPAnaULoEa8cq7hRyVKsWfM1fffGQ5e2Ap6ggoazWAJWkIMJZCXazZl7Nnh1BXkHFbZGSn6eFOMFaeCW5dw999tmSF1zNn++8QxN3ggh3z+WSjn3nz/ebihp3y/Z6x9ixhTc99/QdNG+dY998Exr3FoKvEOWqlMzTLjs96SWppD+6v/3mWXobT4M2lB5FdVBgjHTrrdamJP4enLOwQo5HH5UyMnwfeHlaMOKrhyxvBTzuNHMJ5tJ8XypuQYSrJpr793s/j/5+D6+0BHrudLTiC/6sXSqOwu6hUuG1eu4oSS25J+dyUcFTUYWE/mwZ4el4q678+adnzSDd2Ud5O11z5Yorgme4mRIxKJbMzEwjyWRmZgY6Ky4dP24rozj7ycg4+//jxwtP//77xlgsBZeRd77NRx8ZU7eu4/y6da3TC8uPLQ8ffeR6PUV9Fi1yvU3u7JvC9omny3L1fXfSuEqf93ueLqckefB0OWfOGLNihTGzZln/zcz0zvqMsZ4fdeo47o9q1awfZ+dEYfvKW/vBJu92luQ8LM55kX+fFLWsM2es12Vh13VJPrNmuZf3vNecLb8ffeQ8XxaL9WO7l6xY4V5eHnvMmvbMmeLvc0+vbU/OgcKWnf9asm2DbR/l30/591He5eS/Lzv7FPUz5s615Or3Im/eCtvmvOfE7787T5c3zVtvFf2b429FnS/O7mOJidZ95855U9hvqCuuzpm8x80bCvtNLWq/5L2Hzp9fsvto3u+6e69YscJxee7eiwpbf/7vFXZeFvV9T+4v+fd1cZbtyWfu3MLXactn3mmu7l95r4P817qr/VrUvvU3d2MD+Sk/ISdYg6+8P9p5gxJXN8W83H2wy/tDd+aM+zcqVzdIdx8QnC0/MbF4D/kEX559t6jlOAu+854/3g5yHn206IIBfwVfxXkgKm5e3P0hLeyBqqiHsZJ88j/EuMp7/uArM7Pwe4DtWj9zxvMAsrBCoGAMvooqyHL1AO/sAcTdh89Fi4qX17zTC/u9cOde7Wnw5cnDsb+4c77k3QeLFlnPZ3fPyeLea5ydM3mvPWNcB/zF2XZPgy93fo8Ly5+r/TJrlnvnf95Co6KeR/Leiwpbf95PUQGuu/f1vOd8sARf4eHGvPtu0cc777RatZzfv1ydB/nTF3U8Asnd2IBmhyHE2wMpFlU9/eef1qYeJX353dMxk6TSPZaXL3pbCiR/NWvKe5xnznR+ztmUxsE5vXleFLb9tqY+VaqUfD15Va1qXWdx8v/dd+6/x+Vpp0KFvdsRLO8P2JrPjRxpfem9sJfh//lHuuees/MWLnTdMZK7TS+90XS7sN8L2/Eryfu5OTmO3y/Jb04gFdXRii+aUrp6DUGyvvv30EPBMWyDK8Vtzlqcd9588U5pSZtPSt5rnurOuFueyMmRbrrp7N/ffGP9LSvM+vVn/+9Ox26F3ceKczyCgp+CwZATbDVfrmqf8n88qfly5/PYY+6lW7Gi5KVTeT95S4KLU5Ph75qvvNXpzrahsGUWVaLkzXx6upyiaixsnyNHir8+Z+t15+OqOWow1Xx547wo7Jpz5cwZY2rX9vy6k4q+z7jKf2E1X66aleT/5C2hLqw031mebaWjrvahs3z7q+bL3e1w9qlTx/X54s+aL3c+eY+zJzVfzmoDS3L++0pxW0EUdi64+q1z9zyzcXavKeqa8aQW0Vc1X+60rCmqVY2re5azWpPi1JYVdR14ci9w9XG3eWpRNV+25sG+anqe/2Or9XPnmauw3whPjkcgUfNVRuTkSMuWSbfdZj0Fg1VhJReBHoDW26V7+UsuP/yw+L0tBZucHMeOHdyttWzc2P/bGewdsZSkFy53FHbNrVrlec1k3brSvHmuX463KU7+i9NbWGGl+fkZc7Z0NG+303kF8nosyUvwheW7Uyf3WgZ06FD89XuiOF1qu+oauyiltcOV/OeCN87LnBxr7ZYnbM8TgaxFnD3bOqC7s2cbd/IXHi69+KLz77tqPROMPUTaaoeKqkHL//vsbL+cPCmNG+e//N94o3/uqYF+jvSYn4LBkBMMNV/FKQ309J2vwkpH6tY1ZulS99a7dKnzd9DcKZ1yVWIlGTN+vDH/939np9va0BfFVSlgcV4+zrvf3n+/4DEJDy98O/KXvJ0543pfFbfWJv8ynZ22RbX5d3a+Vani2TErybsYoVLzdeaM9XqoWrXw/NveqSzuPiis5L84tc22a8NZByPunNfuvPPlSQm1p/tDMua999x7N8m2Hl/WfLmzHz25tpztH1/WfLm6T7n6hIUVfDckr7znxM6dZ/9fvXrx9snSpYVvky8Ut+bLnXOhalVjFi70/Dwzxv3zwNXHnVpET2u+XL2f7m4teP7z19l+KewZydV7kp7Ultm2oag8l7Tmy1kNaf79OGKEMTVqOH6vTh3Xzzp5Wz7Y3qH2RW2Ys/c9Pa35iosrfB2xscacOFH0OeoPdLjhY4EOvtxtZpj/s3+/40mf9wb42WeOafv2LXxZ775r7emmqOCiWjXXN0DbhVfc7XH2KazZ1pkz1oCtsO+PH+88AHEVnOS9YRR3G2zLGz/e9UN5UcGX7aH+scesn6VLz3aI4qwzjLz7aN68gjfu/C/5l/T4uAo03X3JO3/TnKIKBly93F/Ug4AtH67yVlivjq6uLdv3PS0wGT/ecV+5+7Bbp07h+7I4D2NvveV6ews7r53t98J6O3S3J7/8y3Tnc+ONnuXbnXPF1f5YtKjwc2fixJJdT0Xtb2PcD7Lfesv1ueJsPxSn4M/Z/sl7nb322tl5CQkl3xfVq1sfSN29jxemsO/kve8+9FDB6+XkScfvHjlyNs3EicbMnGlMr17F3053gq/iFLbk/Tz2WNH7yZPgq7Dzpzi/M86Cn6J6a5471/UxHj++8GDko488uwZs54InvyH5j3H++//Chc4DruJ83nrLus3FbYruzueZZ87+/8MPne+bvOeJp0F4eLgxDz5Y9LXga+7GBhZjjAls3VvplJWVpdjYWGVmZiomJsav687Jsb5s6mkzDEmqVEk6ftz6/xtvlD7+WMrOLl4+ypeXTp8u3ndteveWoqOt27R1q7RlS8mWl1fnzlKFClLFitbmLocPS19+6dn2VqwonXOOlJlpbcZy5szZeZUqSddcY132c8+VLK8XXCDt2GFtEuDKjBlSfPzZjlTefFOqX9+676ZNkz77zDF/0tlBsl25915p82bp669dp2nWzDoGW2F588SiRdZ8Pf20tHat9O+/Z+dVry7dcIM1z3/+aW1yExVlHSOlYkXrPpCkjh2ltDTX6+jdW4qMPPvib/fu1nO1Xj3r9jz+uHX6M89Yj+s771iPsU1kpPXfvNtcubLUtKn1HD1x4uz0ChWsnSDk9fDD0iuvOKaLinLcVneNHSudd550112OeSxM5crSkCHW8+Ovv6zT4uKkI0ekPXus+/fTTwvm2x0REdKpU+6l7d1bOv986zrj46Xnn7dOb9dO+uGHs+meecaaZv166/mYdz9Vriy1bCnl5lrPgTZtrJ2F/PijtSnO999b01WpIv39t+fb48xdd1k7uPj3X+nKK63T3njD2mzxww8dj2v16tZ7S2Fq17Y2AVy0yPG73ta8uXUsx2rVrMd63Tpp6dKiv9e9u7XZTliY9VqrWtX6/d27rdsWGSl9/rk17dVXW88db6hWzfqv7Rz1lTp1rOMBbt4sLV7seAwqV7Y2XevSxXp8c3PPXit//mlN+/XXjnmMiZEGDZKOHZPmzPHsuraNT+gtb7xh/U2vVs2axxo1rJ/Nm6Xff7eu6+hRazP4koiKkq67Trr0Uut6qlSR1qyxNl+OibHOu/pqa9r58892oHDlldbfytmzrX+PGSNNmFCyvOTXqpW0aZPjtMqVrcfHlerVrfecNWukBQusvy1ZWWfnV6xo/T3Nf6+rWNF6vSxa5Hk+o6OlRo2knTsdn0OK+m244QbrNefLe4fk2b3d2ypXli65xHWzcHfdf7/0v/95J0/F4W5sQPBVTIEMvlautPb2AwAAAMBqzhzp+usDs253Y4Og6HBj6tSpSkpKUlRUlJKTk7V27dpC08+bN09NmjRRVFSUWrRooUX5iiCMMXriiSdUq1YtVahQQSkpKdq5c6dDmiNHjmjgwIGKiYlRXFychg4dquO2KqEgV1pfJAYAAAB8pX//4O/ILODB15w5czRq1CiNHTtWGzZsUMuWLZWamqqDBw86Tb969WoNGDBAQ4cO1caNG9WnTx/16dNHW/K0V5s0aZJefvllTZs2TWvWrFF0dLRSU1P1b5563YEDB2rr1q1asmSJFi5cqG+++Ua33367z7fXG0pdry4AAACAHwwfHrxj/UlB0OwwOTlZ7dq105QpUyRJubm5SkxM1H333afRo0cXSN+/f39lZ2dr4cKF9mkdOnRQq1atNG3aNBljVLt2bd1///164IEHJEmZmZmKj4/XzJkzdcMNN2jbtm1q1qyZfvjhB7Vt21aStHjxYl1xxRX6888/VbuovpQV+He+6tWzdRVtVFE+bggMAAAABKkTqijp7AjSK1ZY38/zJ3djg3J+zFMBp06d0vr16zVmzBj7tLCwMKWkpCjNxdv0aWlpGjVqlMO01NRULViwQJK0a9cupaenKyUlxT4/NjZWycnJSktL0w033KC0tDTFxcXZAy9JSklJUVhYmNasWaNrrrmmwHpPnjypk3nevs/K+2amn4WHSz17SjNnShV1QtmqFLC8AAAAAIEUreM6oWj738H8ik5Amx0ePnxYOTk5io+Pd5geHx+vdBcjpKanpxea3vZvUWlq1qzpML9cuXKqWrWqy/VOmDBBsbGx9k9iYqKbW+kblYi3AAAAgAKC+RWdgNZ8lSZjxoxxqHHLysoKaADWsKH13xOqqGiVjo5CAAAAAG+zNju0qltX6to1gJkpQkCDr+rVqys8PFwZGRkO0zMyMpSQkOD0OwkJCYWmt/2bkZGhWnnC3oyMDLVq1cqeJn+HHmfOnNGRI0dcrjcyMlKRtsF/gsDdd0sPPCDl5FgcqlkBAACAsuqll6yv6ASrgDY7jIiIUJs2bbRs2TL7tNzcXC1btkwdO3Z0+p2OHTs6pJekJUuW2NM3aNBACQkJDmmysrK0Zs0ae5qOHTvq6NGjWr9+vT3N8uXLlZubq+TkZK9tny9FREj5Xn0DAAAAyqRq1aSPPjo7yHfQMgE2e/ZsExkZaWbOnGl+/vlnc/vtt5u4uDiTnp5ujDHmpptuMqNHj7an/+6770y5cuXM//73P7Nt2zYzduxYU758ebN582Z7mokTJ5q4uDjzySefmJ9++sn07t3bNGjQwPzzzz/2NJdddplp3bq1WbNmjfn2229No0aNzIABA9zOd2ZmppFkMjMzvbAXiu/BB40JDzfGOo699z5RUcZERHh/uaX1Y7EYU62af/dJuXLWT6C33fYJDzcmKcmYTp2M6dzZdd7yn4/ly1v3X6DyHRZm/QR6/3n7U7Gib8+PqChjmja1/uuLY1K9emDPi9L8qVPHel0FOh98Sv5p2tSYa66xXs+BzkuwfOLjjYmMDHw+gv0THl76ftsuusiYrl3df25153coKsqYa681ZulSY86cCegjuduxQcDf+erfv78OHTqkJ554Qunp6WrVqpUWL15s7zBjz549Cgs7W0HXqVMnzZo1S4899pgeeeQRNWrUSAsWLFDz5s3taR566CFlZ2fr9ttv19GjR9WlSxctXrxYUVFR9jTvv/++7r33XvXo0UNhYWHq16+fXn75Zf9tuJdMmiT997/Sq69Kv/1mfRfsjjuk1aullSutabp3t7Z9XblSevttafduqWJFqU0bqUYNqWZN6dAh6a+/pLAwa3pb95yrVkn79lnnV6tmTVOtmvXvQ4ekPXski0VKTJSqVpWOHLFOM8a6rDp1pKNHpfR06cQJqXp1a/qwsLPfOXr07Hq7drXm/cAB63o2b5Z+/936nXbtrOvcsEH64w/HbUhIsK6rUyfr9/Pm2Vleq1cv+jv590d4uLWb/1WrpL17pTVrrH9bLFJMjHVa3n1x9Kh1H1at6rguZ8ehWjXrvvvzT+swApdccvYYrFwpLV0qrVtnTZ+QIFWpYt0Hhw5J//4rJSVJgwdL3bpZ87dypZSba1133uMrSXFx1nXt3i0dPixFR1v3+913W7/77rvS8ePWvLZqZU1Tq5Y1Td5q/Jwcadmys+m7dJHuu8+aZtUq6zG0fU+ypnW13bt3W/P4zz/Wee3aST16WL9r25685/Lq1Y7HwBjp2DEpO1uKj7cuNzzc8VxeuVJavtx6HtSt63i+WixS/frW/Wc7723r69RJev11aedO63ri4qzp4+LOHmNP9mmLFtZpu3c7P19sy9qzx7pthw9bj3G9etKFF1r3aZ06Z/erbbt277bmz5XCrrlVq87um7znX95z/sAB67kkWa/njIyC59Sff1r3bVyc9OOPZ5fXqpWUmVnwejp1ynrv2rnTui+Sk6Xata3r/Prrs/so77H5+uuzy+3Wzbqc/fut54IxUqNGZ++BS5dKP/zguP/i4635tt03bNuXm2vN9+HD0vr1Z8/FNm2s19vmzdbzy3YMv/664DW5b591+6tXt37WrLHuk/37rcesSxfrvkhPd8zv3Xdbt23KFOmbb6zrqVnTmue4uLPrtl1jEREFrz9n55bt/puRYb1H3XRT4fcIZ/fJmjXP7q8aNazHdfVq6zneqpV1WlqaNY9ZWVLz5lLr1tLff589H2zXWt7zY+NGacsW67qaN7fu5/h4x3tV/vuXq3PWts/z3mdXrbIe/7VrpYMHrdt/wQVShw7WZf31l3X7jxxx/fvk7Dz++++zv3F5r6vCflNs59qpU9KsWY73y4iIs/fTlSvP3uts99uDB63XvG2Ztusw7zViy0turuP9wpZf2++K7XqxXb+24533PpOUJN14o1S+/Nl1JydLr7129tysXt26HNv95PBh6+9yhQpnf/tjY6X//Mf6//z5DAuzXtOXXHL2/mp7frn77rPnt+23z3YMK1e23tstFuv1WbOmNb+25bz2mvW4R0dbj7XtWOW/h6xYYb0v/POPFBVlnV+pktS5s+O17ew+npVlzduRI9bfnAsusF5Xtv1lu0fm/X/e+2Vu7tl7fXi49bfOdj6GhTked9txtv0e5T8n8v4GuLqe8x576ey9zvZcUqPG2eesvL9vtuXkfebLf7/P//yX95mnZk3rNm/aVPDeZTvfbfevY8fO/m7b1m27lmzbbDsfbL91tmOa97eqNAn4OF+lVSDH+QIAAAAQPNyNDQL6zhcAAAAAlBUEXwAAAADgBwRfAAAAAOAHBF8AAAAA4AcEXwAAAADgBwRfAAAAAOAHBF8AAAAA4AcEXwAAAADgBwRfAAAAAOAHBF8AAAAA4AcEXwAAAADgBwRfAAAAAOAHBF8AAAAA4AflAp2B0soYI0nKysoKcE4AAAAABJItJrDFCK4QfBXTsWPHJEmJiYkBzgkAAACAYHDs2DHFxsa6nG8xRYVncCo3N1f79+9X5cqVZbFYApqXrKwsJSYmau/evYqJiQloXuB7HO+yheNdtnC8yx6OednC8Q5dxhgdO3ZMtWvXVliY6ze7qPkqprCwMNWtWzfQ2XAQExPDhVyGcLzLFo532cLxLns45mULxzs0FVbjZUOHGwAAAADgBwRfAAAAAOAHBF8hIDIyUmPHjlVkZGSgswI/4HiXLRzvsoXjXfZwzMsWjjfocAMAAAAA/ICaLwAAAADwA4IvAAAAAPADgi8AAAAA8AOCLwAAAADwA4KvEDB16lQlJSUpKipKycnJWrt2baCzBA9NmDBB7dq1U+XKlVWzZk316dNHO3bscEjz77//6p577lG1atVUqVIl9evXTxkZGQ5p9uzZo169eqlixYqqWbOmHnzwQZ05c8afm4JimDhxoiwWi0aMGGGfxvEOLfv27dONN96oatWqqUKFCmrRooXWrVtnn2+M0RNPPKFatWqpQoUKSklJ0c6dOx2WceTIEQ0cOFAxMTGKi4vT0KFDdfz4cX9vCoqQk5Ojxx9/XA0aNFCFChXUsGFDPfXUU8rbvxnHu3T75ptvdNVVV6l27dqyWCxasGCBw3xvHd+ffvpJXbt2VVRUlBITEzVp0iRfbxr8waBUmz17tomIiDBvvfWW2bp1q7nttttMXFycycjICHTW4IHU1FQzY8YMs2XLFrNp0yZzxRVXmHr16pnjx4/b09x5550mMTHRLFu2zKxbt8506NDBdOrUyT7/zJkzpnnz5iYlJcVs3LjRLFq0yFSvXt2MGTMmEJsEN61du9YkJSWZCy64wAwfPtw+neMdOo4cOWLq169vbr75ZrNmzRrz+++/my+//NL8+uuv9jQTJ040sbGxZsGCBebHH380V199tWnQoIH5559/7Gkuu+wy07JlS/P999+bVatWmXPPPdcMGDAgEJuEQjz99NOmWrVqZuHChWbXrl1m3rx5plKlSuall16yp+F4l26LFi0yjz76qJk/f76RZD7++GOH+d44vpmZmSY+Pt4MHDjQbNmyxXzwwQemQoUK5vXXX/fXZsJHCL5Kufbt25t77rnH/ndOTo6pXbu2mTBhQgBzhZI6ePCgkWS+/vprY4wxR48eNeXLlzfz5s2zp9m2bZuRZNLS0owx1h+DsLAwk56ebk/z2muvmZiYGHPy5En/bgDccuzYMdOoUSOzZMkS061bN3vwxfEOLQ8//LDp0qWLy/m5ubkmISHBPPfcc/ZpR48eNZGRkeaDDz4wxhjz888/G0nmhx9+sKf54osvjMViMfv27fNd5uGxXr16mVtuucVhWt++fc3AgQONMRzvUJM/+PLW8X311VdNlSpVHO7nDz/8sDnvvPN8vEXwNZodlmKnTp3S+vXrlZKSYp8WFhamlJQUpaWlBTBnKKnMzExJUtWqVSVJ69ev1+nTpx2OdZMmTVSvXj37sU5LS1OLFi0UHx9vT5OamqqsrCxt3brVj7mHu+655x716tXL4bhKHO9Q8+mnn6pt27a67rrrVLNmTbVu3VpvvPGGff6uXbuUnp7ucLxjY2OVnJzscLzj4uLUtm1be5qUlBSFhYVpzZo1/tsYFKlTp05atmyZfvnlF0nSjz/+qG+//VaXX365JI53qPPW8U1LS9NFF12kiIgIe5rU1FTt2LFDf//9t5+2Br5QLtAZQPEdPnxYOTk5Dg9fkhQfH6/t27cHKFcoqdzcXI0YMUKdO3dW8+bNJUnp6emKiIhQXFycQ9r4+Hilp6fb0zg7F2zzEFxmz56tDRs26Icffigwj+MdWn7//Xe99tprGjVqlB555BH98MMPGjZsmCIiIjR48GD78XJ2PPMe75o1azrML1eunKpWrcrxDjKjR49WVlaWmjRpovDwcOXk5Ojpp5/WwIEDJYnjHeK8dXzT09PVoEGDAsuwzatSpYpP8g/fI/gCgsw999yjLVu26Ntvvw10VuAje/fu1fDhw7VkyRJFRUUFOjvwsdzcXLVt21bPPPOMJKl169basmWLpk2bpsGDBwc4d/C2uXPn6v3339esWbN0/vnna9OmTRoxYoRq167N8QZAb4elWfXq1RUeHl6gB7SMjAwlJCQEKFcoiXvvvVcLFy7UihUrVLduXfv0hIQEnTp1SkePHnVIn/dYJyQkOD0XbPMQPNavX6+DBw/qwgsvVLly5VSuXDl9/fXXevnll1WuXDnFx8dzvENIrVq11KxZM4dpTZs21Z49eySdPV6F3csTEhJ08OBBh/lnzpzRkSNHON5B5sEHH9To0aN1ww03qEWLFrrppps0cuRITZgwQRLHO9R56/hyjw9dBF+lWEREhNq0aaNly5bZp+Xm5mrZsmXq2LFjAHMGTxljdO+99+rjjz/W8uXLCzQ1aNOmjcqXL+9wrHfs2KE9e/bYj3XHjh21efNmhxv6kiVLFBMTU+DBD4HVo0cPbd68WZs2bbJ/2rZtq4EDB9r/z/EOHZ07dy4wdMQvv/yi+vXrS5IaNGighIQEh+OdlZWlNWvWOBzvo0ePav369fY0y5cvV25urpKTk/2wFXDXiRMnFBbm+HgVHh6u3NxcSRzvUOet49uxY0d98803On36tD3NkiVLdN5559HksLQLdI8fKJnZs2ebyMhIM3PmTPPzzz+b22+/3cTFxTn0gIbgd9ddd5nY2FizcuVKc+DAAfvnxIkT9jR33nmnqVevnlm+fLlZt26d6dixo+nYsaN9vq3r8Z49e5pNmzaZxYsXmxo1atD1eCmRt7dDYzjeoWTt2rWmXLly5umnnzY7d+4077//vqlYsaJ577337GkmTpxo4uLizCeffGJ++ukn07t3b6ddU7du3dqsWbPGfPvtt6ZRo0Z0PR6EBg8ebOrUqWPvan7+/PmmevXq5qGHHrKn4XiXbseOHTMbN240GzduNJLMCy+8YDZu3Gj++OMPY4x3ju/Ro0dNfHy8uemmm8yWLVvM7NmzTcWKFelqPgQQfIWAV155xdSrV89ERESY9u3bm++//z7QWYKHJDn9zJgxw57mn3/+MXfffbepUqWKqVixornmmmvMgQMHHJaze/duc/nll5sKFSqY6tWrm/vvv9+cPn3az1uD4sgffHG8Q8tnn31mmjdvbiIjI02TJk3M9OnTHebn5uaaxx9/3MTHx5vIyEjTo0cPs2PHDoc0f/31lxkwYICpVKmSiYmJMUOGDDHHjh3z52bADVlZWWb48OGmXr16Jioqypxzzjnm0UcfdegynONduq1YscLpb/bgwYONMd47vj/++KPp0qWLiYyMNHXq1DETJ0701ybChyzG5BlyHQAAAADgE7zzBQAAAAB+QPAFAAAAAH5A8AUAAAAAfkDwBQAAAAB+QPAFAAAAAH5A8AUAAAAAfkDwBQAAAAB+QPAFAAAAAH5A8AUA8LukpCRNnjw50NnwmpUrV8pisejo0aOBzopbLBaLFixYEOhsAECZQ/AFAPCavXv36pZbblHt2rUVERGh+vXra/jw4frrr78CnTWv6d69u0aMGOEwrVOnTjpw4IBiY2N9uu6bb75Zffr08ek6AAC+Q/AFAPCK33//XW3bttXOnTv1wQcf6Ndff9W0adO0bNkydezYUUeOHAlY3nJycpSbm+uz5UdERCghIUEWi8Vn6wAAlH4EXwAAr7jnnnsUERGhr776St26dVO9evV0+eWXa+nSpdq3b58effRRh/THjh3TgAEDFB0drTp16mjq1Kn2ecYYjRs3TvXq1VNkZKRq166tYcOG2eefPHlSDzzwgOrUqaPo6GglJydr5cqV9vkzZ85UXFycPv30UzVr1kyRkZH6v//7P0VFRRVoGjh8+HBdcsklkqS//vpLAwYMUJ06dVSxYkW1aNFCH3zwgT3tzTffrK+//lovvfSSLBaLLBaLdu/e7bTZ4UcffaTzzz9fkZGRSkpK0vPPP++w3qSkJD3zzDO65ZZbVLlyZdWrV0/Tp0/3aJ93795dw4YN00MPPaSqVasqISFB48aNc0izc+dOXXTRRYqKilKzZs20ZMmSAsvZu3evrr/+esXFxalq1arq3bu3du/eLUnavn27KlasqFmzZtnTz507VxUqVNDPP//sUX4BoKwj+AIAlNiRI0f05Zdf6u6771aFChUc5iUkJGjgwIGaM2eOjDH26c8995xatmypjRs3avTo0Ro+fLg9MPjoo4/04osv6vXXX9fOnTu1YMECtWjRwv7de++9V2lpaZo9e7Z++uknXXfddbrsssu0c+dOe5oTJ07o2Wef1f/93/9p69atGjhwoOLi4vTRRx/Z0+Tk5GjOnDkaOHCgJOnff/9VmzZt9Pnnn2vLli26/fbbddNNN2nt2rWSpJdeekkdO3bUbbfdpgMHDujAgQNKTEwssD/Wr1+v66+/XjfccIM2b96scePG6fHHH9fMmTMd0j3//PNq27atNm7cqLvvvlt33XWXduzY4dG+f/vttxUdHa01a9Zo0qRJevLJJ+37MTc3V3379lVERITWrFmjadOm6eGHH3b4/unTp5WamqrKlStr1apV+u6771SpUiVddtllOnXqlJo0aaL//e9/uvvuu7Vnzx79+eefuvPOO/Xss8+qWbNmHuUVAMo8AwBACX3//fdGkvn444+dzn/hhReMJJORkWGMMaZ+/frmsssuc0jTv39/c/nllxtjjHn++edN48aNzalTpwos648//jDh4eFm3759DtN79OhhxowZY4wxZsaMGUaS2bRpk0Oa4cOHm0suucT+95dffmkiIyPN33//7XLbevXqZe6//3773926dTPDhw93SLNixQojyb6c//znP+bSSy91SPPggw+aZs2a2f+uX7++ufHGG+1/5+bmmpo1a5rXXnvNZV4GDx5sevfu7ZCXLl26OKRp166defjhh+3bV65cOYd99cUXXzgcq3fffdecd955Jjc3157m5MmTpkKFCubLL7902A9du3Y1PXr0MD179nRIDwBwDzVfAACvMXlqtorSsWPHAn9v27ZNknTdddfpn3/+0TnnnKPbbrtNH3/8sc6cOSNJ2rx5s3JyctS4cWNVqlTJ/vn666/122+/2ZcXERGhCy64wGEdAwcO1MqVK7V//35J0vvvv69evXopLi5OkrUm7KmnnlKLFi1UtWpVVapUSV9++aX27Nnj0X7Ytm2bOnfu7DCtc+fO2rlzp3JycuzT8ubPYrEoISFBBw8e9Ghd+bexVq1a9mVs27ZNiYmJql27tn1+/v3+448/6tdff1XlypXt+7Jq1ar6999/HfbnW2+9pZ9++kkbNmzQzJkzeb8NAIqhXKAzAAAo/c4991xZLBZt27ZN11xzTYH527ZtU5UqVVSjRg23lpeYmKgdO3Zo6dKlWrJkie6++24999xz+vrrr3X8+HGFh4dr/fr1Cg8Pd/hepUqV7P+vUKFCgQChXbt2atiwoWbPnq277rpLH3/8sUNTwOeee04vvfSSJk+erBYtWig6OlojRozQqVOnPNgb7itfvrzD3xaLxeOOQUq6jOPHj6tNmzZ6//33C8zLe7x+/PFHZWdnKywsTAcOHFCtWrU8yicAgOALAOAF1apV06WXXqpXX31VI0eOdHjvKz09Xe+//74GDRrkEAx9//33Dsv4/vvv1bRpU/vfFSpU0FVXXaWrrrpK99xzj5o0aaLNmzerdevWysnJ0cGDB9W1a1eP8zpw4EC9//77qlu3rsLCwtSrVy/7vO+++069e/fWjTfeKMn6ztQvv/zi8G5TRESEQ+2VM02bNtV3333nMO27775T48aNCwSMvtS0aVPt3bvXIVjKv98vvPBCzZkzRzVr1lRMTIzT5Rw5ckQ333yzHn30UR04cEADBw7Uhg0bCrzfBwAoHM0OAQBeMWXKFJ08eVKpqan65ptvtHfvXi1evFiXXnqp6tSpo6efftoh/XfffadJkybpl19+0dSpUzVv3jwNHz5ckrW3wjfffFNbtmzR77//rvfee08VKlRQ/fr11bhxYw0cOFCDBg3S/PnztWvXLq1du1YTJkzQ559/XmQ+bYHD008/rWuvvVaRkZH2eY0aNdKSJUu0evVqbdu2TXfccYcyMjIcvp+UlKQ1a9Zo9+7dOnz4sNNapvvvv1/Lli3TU089pV9++UVvv/22pkyZogceeKA4u7bYUlJS1LhxYw0ePFg//vijVq1aVaDXyYEDB6p69erq3bu3Vq1apV27dmnlypUaNmyY/vzzT0nSnXfeqcTERD322GN64YUXlJOT4/dtAYBQQPAFAPCKRo0aad26dTrnnHN0/fXXq2HDhrr99tt18cUXKy0tTVWrVnVIf//992vdunVq3bq1/vvf/+qFF15QamqqJCkuLk5vvPGGOnfurAsuuEBLly7VZ599pmrVqkmSZsyYoUGDBun+++/Xeeedpz59+uiHH35QvXr1isznueeeq/bt2+unn36y93Jo89hjj+nCCy9UamqqunfvroSEhAKDGj/wwAMKDw9Xs2bNVKNGDafvg1144YWaO3euZs+erebNm+uJJ57Qk08+qZtvvtmDPVpyYWFh+vjjj/XPP/+offv2uvXWWwsEwRUrVtQ333yjevXqqW/fvmratKmGDh2qf//9VzExMXrnnXe0aNEivfvuuypXrpyio6P13nvv6Y033tAXX3zh1+0BgNLOYjx5OxoAAAAAUCzUfAEAAACAHxB8AQAAAIAfEHwBAAAAgB8QfAEAAACAHxB8AQAAAIAfEHwBAAAAgB8QfAEAAACAHxB8AQAAAIAfEHwBAAAAgB8QfAEAAACAHxB8AQAAAIAf/D9+4urPs/I2qwAAAABJRU5ErkJggg==",
      "text/plain": [
       "<Figure size 1000x600 with 1 Axes>"
      ]
     },
     "metadata": {},
     "output_type": "display_data"
    }
   ],
   "source": [
    "X_train_poly = pipe_l.named_steps['polynomialfeatures'].transform(pipe_l.named_steps['columntransformer'].transform(X_train))\n",
    "\n",
    "# Add a constant term to the design matrix\n",
    "X_train_poly = sm.add_constant(X_train_poly)\n",
    "\n",
    "# Fit an OLS (Ordinary Least Squares) model using statsmodels\n",
    "ols_model = sm.OLS(y_train, X_train_poly).fit()\n",
    "\n",
    "# Get the influence object\n",
    "influence = ols_model.get_influence()\n",
    "\n",
    "# Calculate Cook's distance\n",
    "cook_distance = influence.cooks_distance\n",
    "\n",
    "plt.figure(figsize=(10, 6))\n",
    "plt.stem(cook_distance[0], linefmt='b-', markerfmt='bo', basefmt='r-')\n",
    "plt.title(\"Cook's Distance for Each Observation\")\n",
    "plt.xlabel(\"Observation Index\")\n",
    "plt.ylabel(\"Cook's Distance\")\n",
    "plt.show()"
   ]
  },
  {
   "cell_type": "markdown",
   "metadata": {},
   "source": [
    "### Graph de la régression linéaire"
   ]
  },
  {
   "cell_type": "code",
   "execution_count": 7,
   "metadata": {},
   "outputs": [
    {
     "data": {
      "image/png": "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",
      "text/plain": [
       "<Figure size 1000x600 with 1 Axes>"
      ]
     },
     "metadata": {},
     "output_type": "display_data"
    }
   ],
   "source": [
    "y_pred = pipe_l.predict(X_test)\n",
    "\n",
    "x_color = 'blue'\n",
    "\n",
    "plt.figure(figsize=(10, 6))\n",
    "sns.scatterplot(x=y_test, y=y_pred, color=x_color, label='Real values')\n",
    "plt.xlabel(\"Charges réelles\")\n",
    "plt.ylabel(\"Charges estimées\")\n",
    "\n",
    "sns.regplot(x=y_test, y=y_pred, scatter=False, color=\"red\")\n",
    "plt.show()"
   ]
  },
  {
   "cell_type": "markdown",
   "metadata": {},
   "source": [
    "- Analyser les features les plus importantes avec une analyse des coefficients du model (.coef_), si le coeff est proche de 0 alors la feature a peu d'importance\n",
    "- Analyser les observations qui ont une forte influence sur l'entrainement avec la distance de cook\n",
    "- appliquer transformation dans le pipeline pour bmi avec tranform func -> Problème\n",
    "- test sur les analyses bivariées (Correlation, Anova, Chi-2)"
   ]
  }
 ],
 "metadata": {
  "kernelspec": {
   "display_name": ".venv",
   "language": "python",
   "name": "python3"
  },
  "language_info": {
   "codemirror_mode": {
    "name": "ipython",
    "version": 3
   },
   "file_extension": ".py",
   "mimetype": "text/x-python",
   "name": "python",
   "nbconvert_exporter": "python",
   "pygments_lexer": "ipython3",
   "version": "3.11.5"
  }
 },
 "nbformat": 4,
 "nbformat_minor": 2
}
