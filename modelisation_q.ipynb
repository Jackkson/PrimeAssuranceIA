{
 "cells": [
  {
   "cell_type": "markdown",
   "metadata": {},
   "source": [
    "# Modelisation"
   ]
  },
  {
   "cell_type": "markdown",
   "metadata": {},
   "source": [
    "## Importation des modules et du dataset"
   ]
  },
  {
   "cell_type": "code",
   "execution_count": 1,
   "metadata": {},
   "outputs": [],
   "source": [
    "import matplotlib.pyplot as plt\n",
    "import numpy as np\n",
    "import pandas as pd\n",
    "import seaborn as sns\n",
    "from sklearn.compose import ColumnTransformer\n",
    "from sklearn.linear_model import ElasticNet, Lasso, LinearRegression, Ridge\n",
    "from sklearn.model_selection import train_test_split, GridSearchCV, cross_val_score\n",
    "from sklearn.pipeline import make_pipeline\n",
    "from sklearn.preprocessing import FunctionTransformer, KBinsDiscretizer, OneHotEncoder, PolynomialFeatures, StandardScaler\n",
    "import statsmodels.api as sm\n",
    "\n",
    "data = pd.read_csv(\"dataset_cleaned.csv\")"
   ]
  },
  {
   "cell_type": "markdown",
   "metadata": {},
   "source": [
    "## Transformation des variables "
   ]
  },
  {
   "cell_type": "code",
   "execution_count": 2,
   "metadata": {},
   "outputs": [],
   "source": [
    "bmi_scale = [\n",
    "    {\"category\": \"Underweight\", \"range\": [float(\"-inf\"), 18.499]},\n",
    "    {\"category\": \"Healthy weight\", \"range\": [18.5, 24.999]},\n",
    "    {\"category\": \"Overweight\", \"range\": [25, 29.999]},\n",
    "    {\"category\": \"Obesity class I\", \"range\": [30, 34.999]},\n",
    "    {\"category\": \"Obesity class II\", \"range\": [35, 39.999]},\n",
    "    {\"category\": \"Obesity class III\", \"range\": [40, float(\"inf\")]},\n",
    "]\n",
    "\n",
    "bmi_count = []\n",
    "for bmi in data[\"bmi\"]:\n",
    "    for group in bmi_scale:\n",
    "        if bmi >= group[\"range\"][0] and bmi <= group[\"range\"][1]:\n",
    "            bmi_count.append(group[\"category\"])\n",
    "            continue\n",
    "\n",
    "data = data.drop(\"bmi\", axis=1)\n",
    "data[\"bmi\"] = bmi_count"
   ]
  },
  {
   "cell_type": "markdown",
   "metadata": {},
   "source": [
    "## Création des train set et test set"
   ]
  },
  {
   "cell_type": "code",
   "execution_count": 3,
   "metadata": {},
   "outputs": [],
   "source": [
    "X = data.drop(\"charges\", axis=1)\n",
    "y = data.charges\n",
    "\n",
    "X_train, X_test, y_train, y_test = train_test_split(X, y, shuffle=True, train_size=0.85, random_state=42, stratify=X['smoker'])"
   ]
  },
  {
   "cell_type": "markdown",
   "metadata": {},
   "source": [
    "## Etapes de preprocessing "
   ]
  },
  {
   "cell_type": "markdown",
   "metadata": {},
   "source": [
    "### Fonction custom pour pipeline"
   ]
  },
  {
   "cell_type": "code",
   "execution_count": 116,
   "metadata": {},
   "outputs": [],
   "source": [
    "# def bmi_categ(x):\n",
    "\n",
    "#     df = pd.DataFrame(x)\n",
    "    \n",
    "#     bmi_count = []\n",
    "#     for bmi in df[\"bmi\"]:\n",
    "#         for group in bmi_scale:\n",
    "#             if bmi >= group[\"range\"][0] and bmi <= group[\"range\"][1]:\n",
    "#                 bmi_count.append(group[\"category\"])\n",
    "#                 continue\n",
    "\n",
    "#     df = df.drop(\"bmi\", axis=1)\n",
    "#     df[\"bmi\"] = bmi_count\n",
    "    \n",
    "#     return df[\"bmi\"]"
   ]
  },
  {
   "cell_type": "markdown",
   "metadata": {},
   "source": [
    "### Preprocessing"
   ]
  },
  {
   "cell_type": "code",
   "execution_count": 22,
   "metadata": {},
   "outputs": [],
   "source": [
    "num_col = list(X.select_dtypes(include=[float,int]).columns)\n",
    "cat_col = list(X.select_dtypes(include=[object]).columns)\n",
    "\n",
    "# num_col = [\"age\", \"children\"]\n",
    "# cat_col = [\"sex\", \"bmi\", \"smoker\", \"region\"]\n",
    "\n",
    "# num_pipe = make_pipeline(StandardScaler())\n",
    "\n",
    "# custom_preprocessing = ColumnTransformer([\n",
    "#     (\"bmi_categ\", FunctionTransformer(func=bmi_categ, validate=False), \"bmi\")\n",
    "# ], remainder=\"passthrough\")\n",
    "\n",
    "# tenter avec feature engine -> pip install\n",
    "\n",
    "preprocessing = ColumnTransformer([\n",
    "    (\"one_hot\", OneHotEncoder(sparse_output=False), cat_col),\n",
    "    (\"scaling\", StandardScaler(), num_col),\n",
    "])"
   ]
  },
  {
   "cell_type": "markdown",
   "metadata": {},
   "source": [
    "## Regression linéaire"
   ]
  },
  {
   "cell_type": "code",
   "execution_count": 5,
   "metadata": {},
   "outputs": [
    {
     "data": {
      "text/plain": [
       "0.9174315504673247"
      ]
     },
     "execution_count": 5,
     "metadata": {},
     "output_type": "execute_result"
    }
   ],
   "source": [
    "linear_model = LinearRegression()\n",
    "\n",
    "pipe_lr = make_pipeline(preprocessing, PolynomialFeatures(2), linear_model)\n",
    "pipe_lr.fit(X_train, y_train)\n",
    "pipe_lr.score(X_test, y_test)"
   ]
  },
  {
   "cell_type": "markdown",
   "metadata": {},
   "source": [
    "## ElasticNet"
   ]
  },
  {
   "cell_type": "code",
   "execution_count": 8,
   "metadata": {},
   "outputs": [
    {
     "data": {
      "text/plain": [
       "0.9174823660544655"
      ]
     },
     "execution_count": 8,
     "metadata": {},
     "output_type": "execute_result"
    }
   ],
   "source": [
    "elastic_model = ElasticNet(alpha=0.1, l1_ratio=0.9)\n",
    "\n",
    "pipe_en = make_pipeline(preprocessing, PolynomialFeatures(2), elastic_model)\n",
    "\n",
    "pipe_en.fit(X_train, y_train)\n",
    "pipe_en.score(X_test, y_test)"
   ]
  },
  {
   "cell_type": "markdown",
   "metadata": {},
   "source": [
    "### Recherche parametres avec grid search"
   ]
  },
  {
   "cell_type": "code",
   "execution_count": 7,
   "metadata": {},
   "outputs": [
    {
     "data": {
      "text/plain": [
       "0.7991966248453848"
      ]
     },
     "metadata": {},
     "output_type": "display_data"
    },
    {
     "data": {
      "text/plain": [
       "0.8762770064721639"
      ]
     },
     "metadata": {},
     "output_type": "display_data"
    },
    {
     "data": {
      "text/plain": [
       "{'elasticnet__alpha': 0.4, 'elasticnet__l1_ratio': 0.8000000000000002}"
      ]
     },
     "execution_count": 7,
     "metadata": {},
     "output_type": "execute_result"
    }
   ],
   "source": [
    "params = {\n",
    "    \"elasticnet__alpha\" : np.arange(0.4, 2, 0.2),\n",
    "    \"elasticnet__l1_ratio\" : np.arange(0.4, 1, 0.2),\n",
    "}\n",
    "\n",
    "grid = GridSearchCV(pipe_en, param_grid=params, cv=5)\n",
    "\n",
    "grid.fit(X_train, y_train)\n",
    "display(grid.best_score_)\n",
    "display(grid.score(X_test, y_test))\n",
    "grid.best_params_"
   ]
  },
  {
   "cell_type": "markdown",
   "metadata": {},
   "source": [
    "## Ridge"
   ]
  },
  {
   "cell_type": "code",
   "execution_count": 9,
   "metadata": {},
   "outputs": [
    {
     "data": {
      "text/plain": [
       "array([0.88546991, 0.78397845, 0.89000904, 0.84944601, 0.87109706])"
      ]
     },
     "metadata": {},
     "output_type": "display_data"
    },
    {
     "data": {
      "text/plain": [
       "0.8560000954008624"
      ]
     },
     "metadata": {},
     "output_type": "display_data"
    },
    {
     "data": {
      "text/plain": [
       "0.9210229258570933"
      ]
     },
     "execution_count": 9,
     "metadata": {},
     "output_type": "execute_result"
    }
   ],
   "source": [
    "ridge_model = Ridge(alpha=1.9)\n",
    "\n",
    "pipe_r = make_pipeline(preprocessing, PolynomialFeatures(2), ridge_model)\n",
    "\n",
    "cv_scores = cross_val_score(pipe_r, X, y, cv=5)\n",
    "display(cv_scores)\n",
    "display(cv_scores.mean())\n",
    "\n",
    "pipe_r.fit(X_train, y_train)\n",
    "pipe_r.score(X_test, y_test)"
   ]
  },
  {
   "cell_type": "markdown",
   "metadata": {},
   "source": [
    "### Recherches des parametres avec grid search"
   ]
  },
  {
   "cell_type": "code",
   "execution_count": 9,
   "metadata": {},
   "outputs": [
    {
     "data": {
      "text/plain": [
       "0.8456389806068112"
      ]
     },
     "metadata": {},
     "output_type": "display_data"
    },
    {
     "data": {
      "text/plain": [
       "0.9203439595296002"
      ]
     },
     "metadata": {},
     "output_type": "display_data"
    },
    {
     "data": {
      "text/plain": [
       "{'ridge__alpha': 0.5}"
      ]
     },
     "execution_count": 9,
     "metadata": {},
     "output_type": "execute_result"
    }
   ],
   "source": [
    "params = {\n",
    "    \"ridge__alpha\" : np.arange(0.5, 2, 0.1)\n",
    "}\n",
    "\n",
    "grid = GridSearchCV(pipe_r, param_grid=params, cv=5)\n",
    "\n",
    "grid.fit(X_train, y_train)\n",
    "display(grid.best_score_)\n",
    "display(grid.score(X_test, y_test))\n",
    "grid.best_params_"
   ]
  },
  {
   "cell_type": "markdown",
   "metadata": {},
   "source": [
    "## Lasso"
   ]
  },
  {
   "cell_type": "code",
   "execution_count": 23,
   "metadata": {},
   "outputs": [
    {
     "name": "stdout",
     "output_type": "stream",
     "text": [
      "Score du modèle sur le testing set :  0.922984950453674\n"
     ]
    }
   ],
   "source": [
    "lasso_model = Lasso(alpha=37.3)\n",
    "\n",
    "pipe_l = make_pipeline(preprocessing, PolynomialFeatures(2), lasso_model)\n",
    "\n",
    "pipe_l.fit(X_train, y_train)\n",
    "print(\"Score du modèle sur le testing set : \", pipe_l.score(X_test, y_test))"
   ]
  },
  {
   "cell_type": "markdown",
   "metadata": {},
   "source": [
    "### Coefficients des features du modele"
   ]
  },
  {
   "cell_type": "code",
   "execution_count": 29,
   "metadata": {},
   "outputs": [
    {
     "data": {
      "text/html": [
       "<div>\n",
       "<style scoped>\n",
       "    .dataframe tbody tr th:only-of-type {\n",
       "        vertical-align: middle;\n",
       "    }\n",
       "\n",
       "    .dataframe tbody tr th {\n",
       "        vertical-align: top;\n",
       "    }\n",
       "\n",
       "    .dataframe thead th {\n",
       "        text-align: right;\n",
       "    }\n",
       "</style>\n",
       "<table border=\"1\" class=\"dataframe\">\n",
       "  <thead>\n",
       "    <tr style=\"text-align: right;\">\n",
       "      <th></th>\n",
       "      <th>Coefficients</th>\n",
       "    </tr>\n",
       "  </thead>\n",
       "  <tbody>\n",
       "    <tr>\n",
       "      <th>one_hot__smoker_yes one_hot__bmi_Obesity class III</th>\n",
       "      <td>19336.583053</td>\n",
       "    </tr>\n",
       "    <tr>\n",
       "      <th>one_hot__smoker_yes one_hot__bmi_Obesity class II</th>\n",
       "      <td>18089.166678</td>\n",
       "    </tr>\n",
       "    <tr>\n",
       "      <th>one_hot__smoker_yes one_hot__bmi_Obesity class I</th>\n",
       "      <td>15851.297225</td>\n",
       "    </tr>\n",
       "    <tr>\n",
       "      <th>one_hot__smoker_no</th>\n",
       "      <td>-14230.714660</td>\n",
       "    </tr>\n",
       "    <tr>\n",
       "      <th>scaling__age</th>\n",
       "      <td>3475.600484</td>\n",
       "    </tr>\n",
       "    <tr>\n",
       "      <th>one_hot__smoker_yes one_hot__bmi_Healthy weight</th>\n",
       "      <td>-2093.970686</td>\n",
       "    </tr>\n",
       "    <tr>\n",
       "      <th>scaling__age^2</th>\n",
       "      <td>772.473113</td>\n",
       "    </tr>\n",
       "    <tr>\n",
       "      <th>one_hot__region_southwest</th>\n",
       "      <td>-658.039003</td>\n",
       "    </tr>\n",
       "    <tr>\n",
       "      <th>one_hot__region_northeast one_hot__bmi_Obesity class II</th>\n",
       "      <td>488.998561</td>\n",
       "    </tr>\n",
       "    <tr>\n",
       "      <th>one_hot__smoker_no one_hot__region_northeast</th>\n",
       "      <td>487.988456</td>\n",
       "    </tr>\n",
       "    <tr>\n",
       "      <th>scaling__children</th>\n",
       "      <td>455.725951</td>\n",
       "    </tr>\n",
       "  </tbody>\n",
       "</table>\n",
       "</div>"
      ],
      "text/plain": [
       "                                                    Coefficients\n",
       "one_hot__smoker_yes one_hot__bmi_Obesity class III  19336.583053\n",
       "one_hot__smoker_yes one_hot__bmi_Obesity class II   18089.166678\n",
       "one_hot__smoker_yes one_hot__bmi_Obesity class I    15851.297225\n",
       "one_hot__smoker_no                                 -14230.714660\n",
       "scaling__age                                         3475.600484\n",
       "one_hot__smoker_yes one_hot__bmi_Healthy weight     -2093.970686\n",
       "scaling__age^2                                        772.473113\n",
       "one_hot__region_southwest                            -658.039003\n",
       "one_hot__region_northeast one_hot__bmi_Obesity ...    488.998561\n",
       "one_hot__smoker_no one_hot__region_northeast          487.988456\n",
       "scaling__children                                     455.725951"
      ]
     },
     "metadata": {},
     "output_type": "display_data"
    }
   ],
   "source": [
    "feature_names = pipe_l[:-1].get_feature_names_out()\n",
    "\n",
    "coefs = pd.DataFrame(\n",
    "    pipe_l.named_steps[\"lasso\"].coef_,\n",
    "    columns=[\"Coefficients\"],\n",
    "    index=feature_names,\n",
    ")\n",
    "\n",
    "coefs[\"Absolute_values\"] = coefs[\"Coefficients\"].abs()\n",
    "\n",
    "coefs = coefs.sort_values(by=[\"Absolute_values\"], ascending=False)\n",
    "coefs = coefs.drop(\"Absolute_values\", axis=1)\n",
    "\n",
    "coefs.to_csv(\"coef.csv\")\n",
    "\n",
    "display(coefs.head(11))"
   ]
  },
  {
   "cell_type": "markdown",
   "metadata": {},
   "source": [
    "### Prediction avec lasso"
   ]
  },
  {
   "cell_type": "code",
   "execution_count": 7,
   "metadata": {},
   "outputs": [
    {
     "data": {
      "text/plain": [
       "19189.998034741468"
      ]
     },
     "execution_count": 7,
     "metadata": {},
     "output_type": "execute_result"
    }
   ],
   "source": [
    "pred = {\"age\": 27,\n",
    "        \"sex\": \"male\",\n",
    "        \"bmi\": \"Overweight\",\n",
    "        \"children\": 0,\n",
    "        \"smoker\": \"yes\",\n",
    "        \"region\": \"northwest\"\n",
    "        }\n",
    "\n",
    "prediction = pd.DataFrame(pred, index=[0])\n",
    "\n",
    "pipe_l.predict(prediction)[0]"
   ]
  },
  {
   "cell_type": "markdown",
   "metadata": {},
   "source": [
    "### Calcul des distance de Cook"
   ]
  },
  {
   "cell_type": "code",
   "execution_count": 44,
   "metadata": {},
   "outputs": [],
   "source": [
    "X_train_poly = pipe_l.named_steps['polynomialfeatures'].transform(pipe_l.named_steps['columntransformer'].transform(X_train))\n",
    "\n",
    "# Add a constant term to the design matrix\n",
    "X_train_poly = sm.add_constant(X_train_poly)\n",
    "\n",
    "# Fit an OLS (Ordinary Least Squares) model using statsmodels\n",
    "ols_model = sm.OLS(y_train, X_train_poly).fit()\n",
    "\n",
    "# Get the influence object\n",
    "influence = ols_model.get_influence()\n",
    "\n",
    "# Calculate Cook's distance\n",
    "cook_distance = influence.cooks_distance"
   ]
  },
  {
   "cell_type": "markdown",
   "metadata": {},
   "source": [
    "### Affichage des distances de cook"
   ]
  },
  {
   "cell_type": "code",
   "execution_count": 43,
   "metadata": {},
   "outputs": [
    {
     "data": {
      "image/png": "[encoded data removed]",
      "text/plain": [
       "<Figure size 1000x600 with 1 Axes>"
      ]
     },
     "metadata": {},
     "output_type": "display_data"
    }
   ],
   "source": [
    "plt.figure(figsize=(10, 6))\n",
    "plt.stem(cook_distance[0], linefmt='b-', markerfmt='bo', basefmt='r-')\n",
    "plt.title(\"Cook's Distance for Each Observation\")\n",
    "plt.xlabel(\"Observation Index\")\n",
    "plt.ylabel(\"Cook's Distance\")\n",
    "plt.show()"
   ]
  },
  {
   "cell_type": "markdown",
   "metadata": {},
   "source": [
    "### Test de suppression des observations du train set ayant une distance de cook trop élevé"
   ]
  },
  {
   "cell_type": "code",
   "execution_count": 59,
   "metadata": {},
   "outputs": [
    {
     "data": {
      "text/plain": [
       "3"
      ]
     },
     "metadata": {},
     "output_type": "display_data"
    },
    {
     "data": {
      "text/plain": [
       "1133"
      ]
     },
     "metadata": {},
     "output_type": "display_data"
    },
    {
     "data": {
      "text/plain": [
       "1133"
      ]
     },
     "metadata": {},
     "output_type": "display_data"
    },
    {
     "data": {
      "text/plain": [
       "0.9228024016003843"
      ]
     },
     "metadata": {},
     "output_type": "display_data"
    }
   ],
   "source": [
    "outliers = []\n",
    "\n",
    "treshold = 4 / len(cook_distance[0])\n",
    "\n",
    "for i in range(len(cook_distance[0])):\n",
    "   if cook_distance[0][i] > 0.01:\n",
    "      outliers.append(i)\n",
    "\n",
    "display(len(outliers))\n",
    "\n",
    "X_train_modified = X_train.drop(index=outliers, errors=\"ignore\")\n",
    "y_train_modified = y_train.drop(index=outliers, errors=\"ignore\")\n",
    "\n",
    "display(len(X_train_modified), len(y_train_modified))\n",
    "\n",
    "pipe_l.fit(X_train_modified, y_train_modified)\n",
    "display(pipe_l.score(X_test, y_test))"
   ]
  },
  {
   "cell_type": "markdown",
   "metadata": {},
   "source": [
    "### Graph de la régression linéaire"
   ]
  },
  {
   "cell_type": "code",
   "execution_count": 7,
   "metadata": {},
   "outputs": [
    {
     "data": {
      "image/png": "[encoded data removed]",
      "text/plain": [
       "<Figure size 1000x600 with 1 Axes>"
      ]
     },
     "metadata": {},
     "output_type": "display_data"
    }
   ],
   "source": [
    "y_pred = pipe_l.predict(X_test)\n",
    "\n",
    "x_color = 'blue'\n",
    "\n",
    "plt.figure(figsize=(10, 6))\n",
    "sns.scatterplot(x=y_test, y=y_pred, color=x_color, label='Real values')\n",
    "plt.xlabel(\"Charges réelles\")\n",
    "plt.ylabel(\"Charges estimées\")\n",
    "\n",
    "sns.regplot(x=y_test, y=y_pred, scatter=False, color=\"red\")\n",
    "plt.show()"
   ]
  },
  {
   "cell_type": "markdown",
   "metadata": {},
   "source": [
    "- Analyser les features les plus importantes avec une analyse des coefficients du model (.coef_), si le coeff est proche de 0 alors la feature a peu d'importance\n",
    "- Analyser les observations qui ont une forte influence sur l'entrainement avec la distance de cook\n",
    "- appliquer transformation dans le pipeline pour bmi avec tranform func -> Problème\n",
    "- test sur les analyses bivariées (Correlation, Anova, Chi-2)"
   ]
  }
 ],
 "metadata": {
  "kernelspec": {
   "display_name": ".venv",
   "language": "python",
   "name": "python3"
  },
  "language_info": {
   "codemirror_mode": {
    "name": "ipython",
    "version": 3
   },
   "file_extension": ".py",
   "mimetype": "text/x-python",
   "name": "python",
   "nbconvert_exporter": "python",
   "pygments_lexer": "ipython3",
   "version": "3.12.0"
  }
 },
 "nbformat": 4,
 "nbformat_minor": 2
}
