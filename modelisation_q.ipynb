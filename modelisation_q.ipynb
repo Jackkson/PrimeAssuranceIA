{
 "cells": [
  {
   "cell_type": "markdown",
   "metadata": {},
   "source": [
    "# Modelisation"
   ]
  },
  {
   "cell_type": "markdown",
   "metadata": {},
   "source": [
    "## Importation des modules et du dataset"
   ]
  },
  {
   "cell_type": "code",
   "execution_count": 202,
   "metadata": {},
   "outputs": [],
   "source": [
    "import numpy as np\n",
    "import pandas as pd\n",
    "from sklearn.compose import ColumnTransformer\n",
    "from sklearn.linear_model import ElasticNet, Lasso, LinearRegression, Ridge\n",
    "from sklearn.model_selection import train_test_split, GridSearchCV\n",
    "from sklearn.pipeline import make_pipeline\n",
    "from sklearn.preprocessing import OneHotEncoder, PolynomialFeatures, StandardScaler\n",
    "\n",
    "data = pd.read_csv(\"dataset_cleaned.csv\")"
   ]
  },
  {
   "cell_type": "markdown",
   "metadata": {},
   "source": [
    "## Transformation des variables "
   ]
  },
  {
   "cell_type": "code",
   "execution_count": 203,
   "metadata": {},
   "outputs": [],
   "source": [
    "bmi_scale = [\n",
    "    {\"category\": \"Underweight\", \"range\": [float(\"-inf\"), 18.499]},\n",
    "    {\"category\": \"Healthy weight\", \"range\": [18.5, 24.999]},\n",
    "    {\"category\": \"Overweight\", \"range\": [25, 29.999]},\n",
    "    {\"category\": \"Obesity class I\", \"range\": [30, 34.999]},\n",
    "    {\"category\": \"Obesity class II\", \"range\": [35, 39.999]},\n",
    "    {\"category\": \"Obesity class III\", \"range\": [40, float(\"inf\")]},\n",
    "]\n",
    "\n",
    "bmi_count = []\n",
    "for bmi in data[\"bmi\"]:\n",
    "    for group in bmi_scale:\n",
    "        if bmi >= group[\"range\"][0] and bmi <= group[\"range\"][1]:\n",
    "            bmi_count.append(group[\"category\"])\n",
    "            continue\n",
    "\n",
    "data = data.drop(\"bmi\", axis=1)\n",
    "data[\"bmi\"] = bmi_count"
   ]
  },
  {
   "cell_type": "markdown",
   "metadata": {},
   "source": [
    "## Création des train set et test set"
   ]
  },
  {
   "cell_type": "code",
   "execution_count": 204,
   "metadata": {},
   "outputs": [],
   "source": [
    "X = data.drop(\"charges\", axis=1)\n",
    "y = data.charges\n",
    "\n",
    "X_train, X_test, y_train, y_test = train_test_split(X, y, shuffle=True, train_size=0.85, random_state=42, stratify=X['smoker'])"
   ]
  },
  {
   "cell_type": "markdown",
   "metadata": {},
   "source": [
    "## Etapes de preprocessing "
   ]
  },
  {
   "cell_type": "code",
   "execution_count": 205,
   "metadata": {},
   "outputs": [],
   "source": [
    "num_col = list(X.select_dtypes(include=[float,int]).columns)\n",
    "cat_col = list(X.select_dtypes(include=[object]).columns)\n",
    "\n",
    "num_pipe = make_pipeline(StandardScaler())\n",
    "\n",
    "preprocessing = ColumnTransformer([\n",
    "    (\"one_hot\", OneHotEncoder(), cat_col),\n",
    "    (\"scaling\", num_pipe, num_col),\n",
    "])"
   ]
  },
  {
   "cell_type": "markdown",
   "metadata": {},
   "source": [
    "## Regression linéaire"
   ]
  },
  {
   "cell_type": "code",
   "execution_count": 206,
   "metadata": {},
   "outputs": [
    {
     "data": {
      "text/plain": [
       "0.9170410127201927"
      ]
     },
     "execution_count": 206,
     "metadata": {},
     "output_type": "execute_result"
    }
   ],
   "source": [
    "linear_model = LinearRegression()\n",
    "\n",
    "pipe_lr = make_pipeline(preprocessing, PolynomialFeatures(2), linear_model)\n",
    "\n",
    "pipe_lr.fit(X_train, y_train)\n",
    "pipe_lr.score(X_test, y_test)"
   ]
  },
  {
   "cell_type": "markdown",
   "metadata": {},
   "source": [
    "## ElasticNet"
   ]
  },
  {
   "cell_type": "code",
   "execution_count": 207,
   "metadata": {},
   "outputs": [
    {
     "data": {
      "text/plain": [
       "0.9174823660544655"
      ]
     },
     "execution_count": 207,
     "metadata": {},
     "output_type": "execute_result"
    }
   ],
   "source": [
    "elastic_model = ElasticNet(alpha=0.1, l1_ratio=0.9)\n",
    "\n",
    "pipe_en = make_pipeline(preprocessing, PolynomialFeatures(2), elastic_model)\n",
    "\n",
    "pipe_en.fit(X_train, y_train)\n",
    "pipe_en.score(X_test, y_test)"
   ]
  },
  {
   "cell_type": "markdown",
   "metadata": {},
   "source": [
    "### Recherche parametres avec grid search"
   ]
  },
  {
   "cell_type": "code",
   "execution_count": 208,
   "metadata": {},
   "outputs": [
    {
     "data": {
      "text/plain": [
       "0.8414091204207244"
      ]
     },
     "metadata": {},
     "output_type": "display_data"
    },
    {
     "data": {
      "text/plain": [
       "0.9174823660544655"
      ]
     },
     "metadata": {},
     "output_type": "display_data"
    },
    {
     "data": {
      "text/plain": [
       "{'elasticnet__alpha': 0.1, 'elasticnet__l1_ratio': 0.9}"
      ]
     },
     "execution_count": 208,
     "metadata": {},
     "output_type": "execute_result"
    }
   ],
   "source": [
    "params = {\n",
    "    \"elasticnet__alpha\" : np.arange(0.1, 1, 0.1),\n",
    "    \"elasticnet__l1_ratio\" : np.arange(0.1, 1, 0.1),\n",
    "}\n",
    "\n",
    "grid = GridSearchCV(pipe_en, param_grid=params, cv=5)\n",
    "\n",
    "grid.fit(X_train, y_train)\n",
    "display(grid.best_score_)\n",
    "display(grid.score(X_test, y_test))\n",
    "grid.best_params_"
   ]
  },
  {
   "cell_type": "markdown",
   "metadata": {},
   "source": [
    "## Ridge"
   ]
  },
  {
   "cell_type": "code",
   "execution_count": 209,
   "metadata": {},
   "outputs": [
    {
     "data": {
      "text/plain": [
       "0.9210229258570934"
      ]
     },
     "execution_count": 209,
     "metadata": {},
     "output_type": "execute_result"
    }
   ],
   "source": [
    "ridge_model = Ridge(alpha=1.9)\n",
    "\n",
    "pipe_r = make_pipeline(preprocessing, PolynomialFeatures(2), ridge_model)\n",
    "\n",
    "pipe_r.fit(X_train, y_train)\n",
    "pipe_r.score(X_test, y_test)"
   ]
  },
  {
   "cell_type": "markdown",
   "metadata": {},
   "source": [
    "### Recherches des parametres avec grid search"
   ]
  },
  {
   "cell_type": "code",
   "execution_count": 211,
   "metadata": {},
   "outputs": [
    {
     "data": {
      "text/plain": [
       "0.8456389806068112"
      ]
     },
     "metadata": {},
     "output_type": "display_data"
    },
    {
     "data": {
      "text/plain": [
       "0.9203439595296002"
      ]
     },
     "metadata": {},
     "output_type": "display_data"
    },
    {
     "data": {
      "text/plain": [
       "{'ridge__alpha': 0.5}"
      ]
     },
     "execution_count": 211,
     "metadata": {},
     "output_type": "execute_result"
    }
   ],
   "source": [
    "params = {\n",
    "    \"ridge__alpha\" : np.arange(0.5, 2, 0.25)\n",
    "}\n",
    "\n",
    "grid = GridSearchCV(pipe_r, param_grid=params, cv=5)\n",
    "\n",
    "grid.fit(X_train, y_train)\n",
    "display(grid.best_score_)\n",
    "display(grid.score(X_test, y_test))\n",
    "grid.best_params_"
   ]
  },
  {
   "cell_type": "markdown",
   "metadata": {},
   "source": [
    "## Lasso"
   ]
  },
  {
   "cell_type": "code",
   "execution_count": 219,
   "metadata": {},
   "outputs": [
    {
     "data": {
      "text/plain": [
       "0.9229672159033699"
      ]
     },
     "execution_count": 219,
     "metadata": {},
     "output_type": "execute_result"
    }
   ],
   "source": [
    "lasso_model = Lasso(alpha=40)\n",
    "\n",
    "pipe_l = make_pipeline(preprocessing, PolynomialFeatures(2), lasso_model)\n",
    "\n",
    "pipe_l.fit(X_train, y_train)\n",
    "pipe_l.score(X_test, y_test)"
   ]
  },
  {
   "cell_type": "markdown",
   "metadata": {},
   "source": [
    "Idées pour améliorer model en amont :\n",
    "\n",
    "- Créer des polynomials features (quels variables ensembles ?)\n",
    "- Transformer certaines variables (transformation algorithmique) dont la distribution n'est pas normale\n",
    "- Faire passer des variables quantitatives continues en autres types (ex bmi en catégories ?)\n",
    "\n",
    "Améliorer model en aval : \n",
    "\n",
    "- Effectuer gridsearch -> pour les models Lasso et Elastic Net (pas de parametre learning rate à fixer pour linear regression)\n",
    "- En utilisant elastic net -> si alpha = 0 -> LR\n",
    "- Analyser les observations qui ont une grosse influence sur l'entrainement\n"
   ]
  }
 ],
 "metadata": {
  "kernelspec": {
   "display_name": ".venv",
   "language": "python",
   "name": "python3"
  },
  "language_info": {
   "codemirror_mode": {
    "name": "ipython",
    "version": 3
   },
   "file_extension": ".py",
   "mimetype": "text/x-python",
   "name": "python",
   "nbconvert_exporter": "python",
   "pygments_lexer": "ipython3",
   "version": "3.10.12"
  }
 },
 "nbformat": 4,
 "nbformat_minor": 2
}
